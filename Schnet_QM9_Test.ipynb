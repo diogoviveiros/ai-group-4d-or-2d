{
 "cells": [
  {
   "cell_type": "code",
   "execution_count": 1,
   "id": "eleven-madison",
   "metadata": {},
   "outputs": [],
   "source": [
    "import os\n",
    "import schnetpack as spk"
   ]
  },
  {
   "cell_type": "code",
   "execution_count": 2,
   "id": "opposed-chain",
   "metadata": {},
   "outputs": [],
   "source": [
    "qm9tut = './qm9tut'\n",
    "if not os.path.exists('qm9tut'):\n",
    "    os.makedirs(qm9tut)"
   ]
  },
  {
   "cell_type": "code",
   "execution_count": 3,
   "id": "absent-clone",
   "metadata": {},
   "outputs": [],
   "source": [
    "from schnetpack.datasets import QM9\n",
    "import numpy as np"
   ]
  },
  {
   "cell_type": "code",
   "execution_count": 5,
   "id": "specific-southwest",
   "metadata": {},
   "outputs": [],
   "source": [
    "qm9data = QM9('./qm9tut/qm9.db', download=False, load_only=[QM9.U0], remove_uncharacterized=True)"
   ]
  },
  {
   "cell_type": "markdown",
   "id": "attempted-pierre",
   "metadata": {},
   "source": [
    "Atomwise, Atomistic\n",
    "(Model Creation)\n",
    "Diogo\n",
    "\n",
    "Optimization/Train x2\n",
    "(Model Training)\n",
    "Oliva, Walker\n",
    "\n",
    "Validation the model\n",
    "(Model Evaluation)\n",
    "Changxu"
   ]
  },
  {
   "cell_type": "code",
   "execution_count": 6,
   "id": "standard-despite",
   "metadata": {},
   "outputs": [
    {
     "data": {
      "text/plain": [
       "'energy_U0'"
      ]
     },
     "execution_count": 6,
     "metadata": {},
     "output_type": "execute_result"
    }
   ],
   "source": [
    "QM9.U0"
   ]
  },
  {
   "cell_type": "code",
   "execution_count": 51,
   "id": "instant-spread",
   "metadata": {},
   "outputs": [
    {
     "data": {
      "text/plain": [
       "{'energy_U0': array([[    0.        ],\n",
       "        [  -13.61312172],\n",
       "        [    0.        ],\n",
       "        [    0.        ],\n",
       "        [    0.        ],\n",
       "        [    0.        ],\n",
       "        [-1029.86312267],\n",
       "        [-1485.30251237],\n",
       "        [-2042.61123593],\n",
       "        [-2713.48485589],\n",
       "        [    0.        ],\n",
       "        [    0.        ],\n",
       "        [    0.        ],\n",
       "        [    0.        ],\n",
       "        [    0.        ],\n",
       "        [    0.        ],\n",
       "        [    0.        ],\n",
       "        [    0.        ],\n",
       "        [    0.        ],\n",
       "        [    0.        ],\n",
       "        [    0.        ],\n",
       "        [    0.        ],\n",
       "        [    0.        ],\n",
       "        [    0.        ],\n",
       "        [    0.        ],\n",
       "        [    0.        ],\n",
       "        [    0.        ],\n",
       "        [    0.        ],\n",
       "        [    0.        ],\n",
       "        [    0.        ],\n",
       "        [    0.        ],\n",
       "        [    0.        ],\n",
       "        [    0.        ],\n",
       "        [    0.        ],\n",
       "        [    0.        ],\n",
       "        [    0.        ],\n",
       "        [    0.        ],\n",
       "        [    0.        ],\n",
       "        [    0.        ],\n",
       "        [    0.        ],\n",
       "        [    0.        ],\n",
       "        [    0.        ],\n",
       "        [    0.        ],\n",
       "        [    0.        ],\n",
       "        [    0.        ],\n",
       "        [    0.        ],\n",
       "        [    0.        ],\n",
       "        [    0.        ],\n",
       "        [    0.        ],\n",
       "        [    0.        ],\n",
       "        [    0.        ],\n",
       "        [    0.        ],\n",
       "        [    0.        ],\n",
       "        [    0.        ],\n",
       "        [    0.        ],\n",
       "        [    0.        ],\n",
       "        [    0.        ],\n",
       "        [    0.        ],\n",
       "        [    0.        ],\n",
       "        [    0.        ],\n",
       "        [    0.        ],\n",
       "        [    0.        ],\n",
       "        [    0.        ],\n",
       "        [    0.        ],\n",
       "        [    0.        ],\n",
       "        [    0.        ],\n",
       "        [    0.        ],\n",
       "        [    0.        ],\n",
       "        [    0.        ],\n",
       "        [    0.        ],\n",
       "        [    0.        ],\n",
       "        [    0.        ],\n",
       "        [    0.        ],\n",
       "        [    0.        ],\n",
       "        [    0.        ],\n",
       "        [    0.        ],\n",
       "        [    0.        ],\n",
       "        [    0.        ],\n",
       "        [    0.        ],\n",
       "        [    0.        ],\n",
       "        [    0.        ],\n",
       "        [    0.        ],\n",
       "        [    0.        ],\n",
       "        [    0.        ],\n",
       "        [    0.        ],\n",
       "        [    0.        ],\n",
       "        [    0.        ],\n",
       "        [    0.        ],\n",
       "        [    0.        ],\n",
       "        [    0.        ],\n",
       "        [    0.        ],\n",
       "        [    0.        ],\n",
       "        [    0.        ],\n",
       "        [    0.        ],\n",
       "        [    0.        ],\n",
       "        [    0.        ],\n",
       "        [    0.        ],\n",
       "        [    0.        ],\n",
       "        [    0.        ],\n",
       "        [    0.        ]])}"
      ]
     },
     "execution_count": 51,
     "metadata": {},
     "output_type": "execute_result"
    }
   ],
   "source": [
    "atomrefs = qm9data.get_atomref()\n",
    "atomrefs"
   ]
  },
  {
   "cell_type": "code",
   "execution_count": 22,
   "id": "frozen-headset",
   "metadata": {},
   "outputs": [
    {
     "data": {
      "text/plain": [
       "(Atoms(symbols='CH4', pbc=False),\n",
       " {'rotational_constant_A': array([157.7118]),\n",
       "  'rotational_constant_B': array([157.70997]),\n",
       "  'rotational_constant_C': array([157.70699]),\n",
       "  'dipole_moment': array([0.]),\n",
       "  'isotropic_polarizability': array([1.95752003]),\n",
       "  'homo': array([-10.54985436]),\n",
       "  'lumo': array([3.1864533]),\n",
       "  'gap': array([13.73630767]),\n",
       "  'electronic_spatial_extent': array([9.90295659]),\n",
       "  'zpve': array([1.21768231]),\n",
       "  'energy_U0': array([-1101.48779008]),\n",
       "  'energy_U': array([-1101.40974783]),\n",
       "  'enthalpy_H': array([-1101.38403307]),\n",
       "  'free_energy': array([-1102.02295641]),\n",
       "  'heat_capacity': array([6.469]),\n",
       "  '_atomic_numbers': array([6, 1, 1, 1, 1]),\n",
       "  '_positions': array([[-2.8340169e-06,  2.3049886e-06, -1.4378233e-07],\n",
       "         [ 1.4845718e-02, -1.0918331e+00, -6.0250196e-03],\n",
       "         [ 1.0244261e+00,  3.7794939e-01, -7.7245650e-03],\n",
       "         [-5.2811974e-01,  3.6172476e-01, -8.8464487e-01],\n",
       "         [-5.1111829e-01,  3.5213080e-01,  8.9839613e-01]], dtype=float32),\n",
       "  '_neighbors': array([[1, 2, 3, 4],\n",
       "         [0, 2, 3, 4],\n",
       "         [0, 1, 3, 4],\n",
       "         [0, 1, 2, 4],\n",
       "         [0, 1, 2, 3]]),\n",
       "  '_cell': array([[0., 0., 0.],\n",
       "         [0., 0., 0.],\n",
       "         [0., 0., 0.]], dtype=float32),\n",
       "  '_cell_offset': array([[[0., 0., 0.],\n",
       "          [0., 0., 0.],\n",
       "          [0., 0., 0.],\n",
       "          [0., 0., 0.]],\n",
       "  \n",
       "         [[0., 0., 0.],\n",
       "          [0., 0., 0.],\n",
       "          [0., 0., 0.],\n",
       "          [0., 0., 0.]],\n",
       "  \n",
       "         [[0., 0., 0.],\n",
       "          [0., 0., 0.],\n",
       "          [0., 0., 0.],\n",
       "          [0., 0., 0.]],\n",
       "  \n",
       "         [[0., 0., 0.],\n",
       "          [0., 0., 0.],\n",
       "          [0., 0., 0.],\n",
       "          [0., 0., 0.]],\n",
       "  \n",
       "         [[0., 0., 0.],\n",
       "          [0., 0., 0.],\n",
       "          [0., 0., 0.],\n",
       "          [0., 0., 0.]]], dtype=float32)})"
      ]
     },
     "execution_count": 22,
     "metadata": {},
     "output_type": "execute_result"
    }
   ],
   "source": [
    "x = qm9data.get_properties(0)\n",
    "x"
   ]
  },
  {
   "cell_type": "code",
   "execution_count": 14,
   "id": "editorial-success",
   "metadata": {},
   "outputs": [
    {
     "data": {
      "text/plain": [
       "{'energy_U0': array([[    0.        ],\n",
       "        [  -13.61312172],\n",
       "        [    0.        ],\n",
       "        [    0.        ],\n",
       "        [    0.        ],\n",
       "        [    0.        ],\n",
       "        [-1029.86312267],\n",
       "        [-1485.30251237],\n",
       "        [-2042.61123593],\n",
       "        [-2713.48485589],\n",
       "        [    0.        ],\n",
       "        [    0.        ],\n",
       "        [    0.        ],\n",
       "        [    0.        ],\n",
       "        [    0.        ],\n",
       "        [    0.        ],\n",
       "        [    0.        ],\n",
       "        [    0.        ],\n",
       "        [    0.        ],\n",
       "        [    0.        ],\n",
       "        [    0.        ],\n",
       "        [    0.        ],\n",
       "        [    0.        ],\n",
       "        [    0.        ],\n",
       "        [    0.        ],\n",
       "        [    0.        ],\n",
       "        [    0.        ],\n",
       "        [    0.        ],\n",
       "        [    0.        ],\n",
       "        [    0.        ],\n",
       "        [    0.        ],\n",
       "        [    0.        ],\n",
       "        [    0.        ],\n",
       "        [    0.        ],\n",
       "        [    0.        ],\n",
       "        [    0.        ],\n",
       "        [    0.        ],\n",
       "        [    0.        ],\n",
       "        [    0.        ],\n",
       "        [    0.        ],\n",
       "        [    0.        ],\n",
       "        [    0.        ],\n",
       "        [    0.        ],\n",
       "        [    0.        ],\n",
       "        [    0.        ],\n",
       "        [    0.        ],\n",
       "        [    0.        ],\n",
       "        [    0.        ],\n",
       "        [    0.        ],\n",
       "        [    0.        ],\n",
       "        [    0.        ],\n",
       "        [    0.        ],\n",
       "        [    0.        ],\n",
       "        [    0.        ],\n",
       "        [    0.        ],\n",
       "        [    0.        ],\n",
       "        [    0.        ],\n",
       "        [    0.        ],\n",
       "        [    0.        ],\n",
       "        [    0.        ],\n",
       "        [    0.        ],\n",
       "        [    0.        ],\n",
       "        [    0.        ],\n",
       "        [    0.        ],\n",
       "        [    0.        ],\n",
       "        [    0.        ],\n",
       "        [    0.        ],\n",
       "        [    0.        ],\n",
       "        [    0.        ],\n",
       "        [    0.        ],\n",
       "        [    0.        ],\n",
       "        [    0.        ],\n",
       "        [    0.        ],\n",
       "        [    0.        ],\n",
       "        [    0.        ],\n",
       "        [    0.        ],\n",
       "        [    0.        ],\n",
       "        [    0.        ],\n",
       "        [    0.        ],\n",
       "        [    0.        ],\n",
       "        [    0.        ],\n",
       "        [    0.        ],\n",
       "        [    0.        ],\n",
       "        [    0.        ],\n",
       "        [    0.        ],\n",
       "        [    0.        ],\n",
       "        [    0.        ],\n",
       "        [    0.        ],\n",
       "        [    0.        ],\n",
       "        [    0.        ],\n",
       "        [    0.        ],\n",
       "        [    0.        ],\n",
       "        [    0.        ],\n",
       "        [    0.        ],\n",
       "        [    0.        ],\n",
       "        [    0.        ],\n",
       "        [    0.        ],\n",
       "        [    0.        ],\n",
       "        [    0.        ],\n",
       "        [    0.        ]])}"
      ]
     },
     "execution_count": 14,
     "metadata": {},
     "output_type": "execute_result"
    }
   ],
   "source": [
    "spk.AtomsLoader()"
   ]
  },
  {
   "cell_type": "code",
   "execution_count": 49,
   "id": "future-electricity",
   "metadata": {},
   "outputs": [
    {
     "data": {
      "text/plain": [
       "[1, 2, 3, 4, 5]"
      ]
     },
     "execution_count": 49,
     "metadata": {},
     "output_type": "execute_result"
    }
   ],
   "source": [
    "y = [1, 2, 3, 4, 5]\n",
    "y[slice(None)]"
   ]
  },
  {
   "cell_type": "code",
   "execution_count": null,
   "id": "tight-satisfaction",
   "metadata": {},
   "outputs": [],
   "source": []
  },
  {
   "cell_type": "code",
   "execution_count": null,
   "id": "comfortable-resident",
   "metadata": {},
   "outputs": [],
   "source": []
  }
 ],
 "metadata": {
  "kernelspec": {
   "display_name": "Python 3",
   "language": "python",
   "name": "python3"
  },
  "language_info": {
   "codemirror_mode": {
    "name": "ipython",
    "version": 3
   },
   "file_extension": ".py",
   "mimetype": "text/x-python",
   "name": "python",
   "nbconvert_exporter": "python",
   "pygments_lexer": "ipython3",
   "version": "3.7.10"
  }
 },
 "nbformat": 4,
 "nbformat_minor": 5
}
