{
 "cells": [
  {
   "cell_type": "code",
   "execution_count": 1,
   "id": "tested-yukon",
   "metadata": {},
   "outputs": [],
   "source": [
    "import numpy as np\n",
    "import pandas as pd\n",
    "from ase.io.xyz import read_xyz\n",
    "from ase.io import read\n",
    "from io import StringIO\n",
    "import os\n",
    "import schnetpack as spk\n",
    "from torch.optim import Adam\n",
    "import matplotlib.pyplot as plt\n",
    "import schnetpack.train as trn\n",
    "from schnetpack import AtomsData\n",
    "import torch\n",
    "from sklearn.model_selection import KFold"
   ]
  },
  {
   "cell_type": "code",
   "execution_count": 2,
   "id": "worldwide-expert",
   "metadata": {},
   "outputs": [],
   "source": [
    "freesolv_file = '../../data/FreeSolv_with_3D.csv'\n",
    "freesolv_data = pd.read_csv(freesolv_file)"
   ]
  },
  {
   "cell_type": "code",
   "execution_count": 3,
   "id": "reliable-literacy",
   "metadata": {},
   "outputs": [],
   "source": [
    "freesolvmod = \"./FreeSolvModel\"\n",
    "if not os.path.exists('FreeSolvModel'):\n",
    "    os.makedirs(freesolvmod)"
   ]
  },
  {
   "cell_type": "code",
   "execution_count": 4,
   "id": "hired-paper",
   "metadata": {},
   "outputs": [],
   "source": [
    "atoms = freesolv_data['xyz'].map(lambda x: next(read_xyz(StringIO(x), slice(None))))\n",
    "atoms = [a for a in atoms]"
   ]
  },
  {
   "cell_type": "code",
   "execution_count": 5,
   "id": "australian-baltimore",
   "metadata": {},
   "outputs": [],
   "source": [
    "freesolv_expt = np.array(freesolv_data[\"expt\"],dtype=float)"
   ]
  },
  {
   "cell_type": "code",
   "execution_count": 6,
   "id": "coordinate-string",
   "metadata": {
    "scrolled": true
   },
   "outputs": [
    {
     "name": "stdout",
     "output_type": "stream",
     "text": [
      "Properties: [{'expt': -11.01}, {'expt': -4.87}, {'expt': 1.83}, {'expt': -5.45}, {'expt': -4.21}, {'expt': -6.27}, {'expt': 2.34}, {'expt': -3.92}, {'expt': 1.58}, {'expt': -4.62}, {'expt': -1.96}, {'expt': -3.88}, {'expt': -4.33}, {'expt': -2.49}, {'expt': -2.55}, {'expt': -4.78}, {'expt': -1.46}, {'expt': -2.22}, {'expt': -5.85}, {'expt': 2.88}, {'expt': -6.34}, {'expt': -6.1}, {'expt': -5.48}, {'expt': -4.1}, {'expt': -4.1}, {'expt': -3.52}, {'expt': -4.47}, {'expt': -2.74}, {'expt': -3.43}, {'expt': -7.81}, {'expt': -0.8}, {'expt': 0.93}, {'expt': -6.78}, {'expt': -9.29}, {'expt': -4.07}, {'expt': -5.91}, {'expt': -2.13}, {'expt': -3.64}, {'expt': -2.68}, {'expt': 3.13}, {'expt': -10.0}, {'expt': 2.06}, {'expt': -8.11}, {'expt': -1.12}, {'expt': -23.62}, {'expt': -2.83}, {'expt': -4.68}, {'expt': -5.56}, {'expt': -3.65}, {'expt': -5.49}, {'expt': 3.12}, {'expt': -4.42}, {'expt': -6.2}, {'expt': -6.96}, {'expt': -0.16}, {'expt': -0.25}, {'expt': -9.3}, {'expt': -4.63}, {'expt': -10.22}, {'expt': -3.56}, {'expt': -3.65}, {'expt': -4.29}, {'expt': 1.07}, {'expt': -9.51}, {'expt': -0.23}, {'expt': -0.11}, {'expt': -16.43}, {'expt': 0.56}, {'expt': -3.2}, {'expt': -9.31}, {'expt': -1.88}, {'expt': -14.21}, {'expt': -8.18}, {'expt': -2.88}, {'expt': -7.77}, {'expt': -4.5}, {'expt': -0.99}, {'expt': -3.78}, {'expt': -0.84}, {'expt': -7.66}, {'expt': -3.15}, {'expt': 0.52}, {'expt': -6.62}, {'expt': -18.17}, {'expt': 2.1}, {'expt': -0.55}, {'expt': -0.03}, {'expt': -1.21}, {'expt': 2.67}, {'expt': -9.63}, {'expt': -3.84}, {'expt': -9.73}, {'expt': -2.49}, {'expt': -4.13}, {'expt': -4.02}, {'expt': -2.1}, {'expt': -4.59}, {'expt': 2.3}, {'expt': -6.09}, {'expt': -7.07}, {'expt': -0.33}, {'expt': -1.28}, {'expt': -4.06}, {'expt': -3.88}, {'expt': -1.92}, {'expt': 0.1}, {'expt': 1.01}, {'expt': -0.83}, {'expt': -3.13}, {'expt': -4.04}, {'expt': -3.64}, {'expt': -1.1}, {'expt': -3.04}, {'expt': -9.61}, {'expt': -2.38}, {'expt': -2.23}, {'expt': -1.66}, {'expt': -6.32}, {'expt': -9.65}, {'expt': -4.38}, {'expt': -0.53}, {'expt': -12.64}, {'expt': -4.29}, {'expt': 2.93}, {'expt': -7.03}, {'expt': -5.11}, {'expt': -3.88}, {'expt': -0.89}, {'expt': -6.44}, {'expt': -0.78}, {'expt': 2.3}, {'expt': -3.64}, {'expt': 0.5}, {'expt': -5.04}, {'expt': -1.82}, {'expt': -2.46}, {'expt': -3.48}, {'expt': 2.52}, {'expt': -3.73}, {'expt': -3.12}, {'expt': 0.75}, {'expt': -3.17}, {'expt': 0.25}, {'expt': -4.5}, {'expt': -2.44}, {'expt': -0.64}, {'expt': -2.73}, {'expt': -5.66}, {'expt': 1.09}, {'expt': 0.68}, {'expt': -0.68}, {'expt': -8.41}, {'expt': -9.3}, {'expt': -1.36}, {'expt': -15.83}, {'expt': -2.48}, {'expt': -3.1}, {'expt': -6.21}, {'expt': -5.71}, {'expt': -4.86}, {'expt': 0.14}, {'expt': -7.58}, {'expt': -3.04}, {'expt': -6.5}, {'expt': -4.0}, {'expt': -3.18}, {'expt': -0.79}, {'expt': -0.44}, {'expt': -3.22}, {'expt': -4.15}, {'expt': -5.22}, {'expt': -18.06}, {'expt': -4.02}, {'expt': -4.39}, {'expt': -0.57}, {'expt': -4.7}, {'expt': -2.75}, {'expt': -1.14}, {'expt': -9.8}, {'expt': -4.42}, {'expt': -0.4}, {'expt': -3.45}, {'expt': -2.01}, {'expt': -4.53}, {'expt': -2.98}, {'expt': -1.99}, {'expt': -4.69}, {'expt': -2.64}, {'expt': -0.9}, {'expt': -1.24}, {'expt': -6.5}, {'expt': -10.03}, {'expt': -4.05}, {'expt': 0.4}, {'expt': 1.58}, {'expt': -0.7}, {'expt': -1.59}, {'expt': -7.65}, {'expt': -8.72}, {'expt': -2.26}, {'expt': -4.7}, {'expt': -6.16}, {'expt': -0.74}, {'expt': -2.63}, {'expt': -4.4}, {'expt': -2.69}, {'expt': 0.67}, {'expt': -1.66}, {'expt': -2.13}, {'expt': -6.13}, {'expt': -6.4}, {'expt': -3.82}, {'expt': -18.72}, {'expt': -6.35}, {'expt': -0.8}, {'expt': -20.52}, {'expt': 1.79}, {'expt': -4.72}, {'expt': -0.8}, {'expt': -2.94}, {'expt': -1.69}, {'expt': -2.21}, {'expt': -2.55}, {'expt': -3.41}, {'expt': -1.1}, {'expt': -2.4}, {'expt': -4.4}, {'expt': -9.94}, {'expt': -3.11}, {'expt': -4.87}, {'expt': -4.73}, {'expt': -3.22}, {'expt': -3.67}, {'expt': -3.79}, {'expt': 1.59}, {'expt': 2.0}, {'expt': -3.3}, {'expt': -9.45}, {'expt': -9.52}, {'expt': -3.95}, {'expt': -1.31}, {'expt': -2.4}, {'expt': -1.45}, {'expt': -8.61}, {'expt': -5.26}, {'expt': -5.49}, {'expt': -9.53}, {'expt': -11.85}, {'expt': -2.49}, {'expt': -4.24}, {'expt': -2.49}, {'expt': -5.57}, {'expt': 0.08}, {'expt': 1.77}, {'expt': -8.7}, {'expt': -0.98}, {'expt': -2.47}, {'expt': 2.51}, {'expt': -5.04}, {'expt': 0.06}, {'expt': 1.28}, {'expt': -0.14}, {'expt': -4.42}, {'expt': 3.16}, {'expt': -4.95}, {'expt': 1.32}, {'expt': -5.88}, {'expt': -12.74}, {'expt': 1.23}, {'expt': -4.45}, {'expt': -0.3}, {'expt': 2.56}, {'expt': -3.24}, {'expt': -3.24}, {'expt': -0.99}, {'expt': -3.81}, {'expt': -8.68}, {'expt': -4.59}, {'expt': -0.5}, {'expt': -6.88}, {'expt': -8.26}, {'expt': -0.48}, {'expt': -2.07}, {'expt': -6.46}, {'expt': -1.08}, {'expt': -1.21}, {'expt': 2.0}, {'expt': -1.93}, {'expt': 1.7}, {'expt': -1.38}, {'expt': -4.69}, {'expt': -0.16}, {'expt': -2.92}, {'expt': -5.8}, {'expt': -3.44}, {'expt': -0.9}, {'expt': -2.22}, {'expt': -9.2}, {'expt': -3.54}, {'expt': -2.11}, {'expt': -5.21}, {'expt': 1.31}, {'expt': -1.79}, {'expt': 2.56}, {'expt': -2.78}, {'expt': -4.59}, {'expt': -1.12}, {'expt': -5.31}, {'expt': -7.29}, {'expt': -7.1}, {'expt': -4.43}, {'expt': -8.21}, {'expt': -2.89}, {'expt': -2.93}, {'expt': -4.35}, {'expt': -2.15}, {'expt': -1.95}, {'expt': -1.74}, {'expt': -5.18}, {'expt': -0.74}, {'expt': -5.26}, {'expt': -0.48}, {'expt': -1.39}, {'expt': -10.17}, {'expt': -10.08}, {'expt': -6.25}, {'expt': -4.44}, {'expt': -2.3}, {'expt': -9.86}, {'expt': 1.31}, {'expt': 1.83}, {'expt': -5.33}, {'expt': -1.46}, {'expt': -6.75}, {'expt': -7.29}, {'expt': -2.45}, {'expt': -5.91}, {'expt': -1.01}, {'expt': -0.77}, {'expt': 1.68}, {'expt': -1.34}, {'expt': 0.6}, {'expt': -2.34}, {'expt': -1.12}, {'expt': -9.34}, {'expt': -3.03}, {'expt': -2.87}, {'expt': -4.91}, {'expt': -3.09}, {'expt': -7.0}, {'expt': -4.23}, {'expt': -3.71}, {'expt': -4.01}, {'expt': -0.82}, {'expt': -5.1}, {'expt': -2.67}, {'expt': -2.28}, {'expt': -7.37}, {'expt': -3.88}, {'expt': -2.29}, {'expt': -4.12}, {'expt': -2.53}, {'expt': -25.47}, {'expt': -0.22}, {'expt': -9.28}, {'expt': -3.15}, {'expt': -5.53}, {'expt': -0.4}, {'expt': -3.88}, {'expt': -4.93}, {'expt': 0.1}, {'expt': 0.84}, {'expt': -2.78}, {'expt': -0.95}, {'expt': -4.77}, {'expt': -5.73}, {'expt': -3.35}, {'expt': -9.71}, {'expt': -5.1}, {'expt': -2.37}, {'expt': -3.3}, {'expt': 0.18}, {'expt': 0.34}, {'expt': -3.52}, {'expt': -6.4}, {'expt': 0.0}, {'expt': -0.04}, {'expt': -7.78}, {'expt': 1.07}, {'expt': -7.63}, {'expt': -7.28}, {'expt': -6.0}, {'expt': -4.61}, {'expt': -4.78}, {'expt': -9.4}, {'expt': 2.11}, {'expt': -5.46}, {'expt': -7.43}, {'expt': -6.19}, {'expt': -4.91}, {'expt': -0.86}, {'expt': -0.85}, {'expt': -3.75}, {'expt': -2.7}, {'expt': -6.16}, {'expt': -7.19}, {'expt': -6.74}, {'expt': -5.66}, {'expt': -1.61}, {'expt': -10.78}, {'expt': -5.49}, {'expt': -2.56}, {'expt': 1.47}, {'expt': -8.42}, {'expt': -7.98}, {'expt': -0.59}, {'expt': -9.76}, {'expt': -2.92}, {'expt': -3.92}, {'expt': -4.27}, {'expt': -2.28}, {'expt': -7.4}, {'expt': -5.74}, {'expt': -6.69}, {'expt': 2.51}, {'expt': -5.51}, {'expt': -3.34}, {'expt': -0.9}, {'expt': -16.92}, {'expt': -5.0}, {'expt': -2.82}, {'expt': -3.37}, {'expt': -4.71}, {'expt': -2.56}, {'expt': -1.34}, {'expt': -5.23}, {'expt': -9.62}, {'expt': -4.09}, {'expt': 1.38}, {'expt': 0.08}, {'expt': -6.79}, {'expt': -9.13}, {'expt': -1.83}, {'expt': -9.01}, {'expt': -8.84}, {'expt': -1.91}, {'expt': 2.48}, {'expt': -2.33}, {'expt': -1.23}, {'expt': -15.46}, {'expt': -5.21}, {'expt': -2.79}, {'expt': -5.72}, {'expt': -1.14}, {'expt': -1.64}, {'expt': -1.4}, {'expt': -2.4}, {'expt': -3.52}, {'expt': -4.61}, {'expt': -2.45}, {'expt': -6.69}, {'expt': -3.5}, {'expt': -8.84}, {'expt': 0.29}, {'expt': -6.12}, {'expt': -6.6}, {'expt': -3.84}, {'expt': -7.67}, {'expt': -2.64}, {'expt': -9.84}, {'expt': -5.9}, {'expt': -2.86}, {'expt': -9.4}, {'expt': -0.56}, {'expt': -0.25}, {'expt': -1.89}, {'expt': -10.64}, {'expt': -1.27}, {'expt': -5.9}, {'expt': -9.44}, {'expt': -4.82}, {'expt': -6.02}, {'expt': -4.37}, {'expt': -3.9}, {'expt': -3.93}, {'expt': -7.62}, {'expt': -3.71}, {'expt': -3.8}, {'expt': 1.16}, {'expt': -3.61}, {'expt': -2.82}, {'expt': -3.68}, {'expt': -11.95}, {'expt': -3.47}, {'expt': 2.88}, {'expt': -3.25}, {'expt': -2.49}, {'expt': -4.29}, {'expt': -0.53}, {'expt': 2.93}, {'expt': -5.22}, {'expt': -0.11}, {'expt': -0.83}, {'expt': 2.55}, {'expt': 2.83}, {'expt': -4.72}, {'expt': -4.22}, {'expt': 2.71}, {'expt': -1.96}, {'expt': -1.29}, {'expt': -4.84}, {'expt': -0.45}, {'expt': -6.92}, {'expt': -6.23}, {'expt': -5.33}, {'expt': -7.78}, {'expt': -10.21}, {'expt': 3.43}, {'expt': -2.21}, {'expt': 0.0}, {'expt': -3.05}, {'expt': -2.81}, {'expt': -5.82}, {'expt': -7.17}, {'expt': -3.28}, {'expt': -3.51}, {'expt': -1.2}, {'expt': -4.23}, {'expt': -4.4}, {'expt': -5.03}, {'expt': -1.5}, {'expt': -2.51}, {'expt': -1.62}, {'expt': -4.58}, {'expt': -0.63}, {'expt': 2.13}, {'expt': -0.78}, {'expt': -9.37}, {'expt': -6.62}, {'expt': -4.42}, {'expt': -4.09}, {'expt': -11.14}, {'expt': 2.93}, {'expt': -6.25}, {'expt': -4.82}, {'expt': -11.0}, {'expt': -3.13}, {'expt': -13.43}, {'expt': -0.53}, {'expt': -6.55}, {'expt': -1.43}, {'expt': -2.93}, {'expt': 1.2}, {'expt': -4.59}, {'expt': -4.84}, {'expt': -6.619999999999999}, {'expt': -2.78}, {'expt': -7.47}, {'expt': -10.27}, {'expt': -3.45}, {'expt': -2.32}, {'expt': -5.99}, {'expt': -0.44}, {'expt': -2.49}, {'expt': -4.16}, {'expt': -0.1}, {'expt': 1.92}, {'expt': -4.51}, {'expt': -4.74}, {'expt': -3.95}, {'expt': -4.8}, {'expt': -6.01}, {'expt': -4.57}, {'expt': -4.39}, {'expt': 2.97}, {'expt': -7.0}, {'expt': -8.15}, {'expt': -6.5}, {'expt': -6.79}, {'expt': 1.68}, {'expt': -1.16}, {'expt': -3.2}, {'expt': -6.68}, {'expt': 2.89}, {'expt': -2.64}, {'expt': -3.64}, {'expt': 1.66}, {'expt': -2.02}, {'expt': -4.97}, {'expt': -17.74}, {'expt': -1.24}, {'expt': 2.38}, {'expt': -2.09}, {'expt': -1.46}, {'expt': -0.19}, {'expt': -4.09}, {'expt': -3.58}, {'expt': 0.27}, {'expt': -4.52}, {'expt': -0.1}, {'expt': -2.36}, {'expt': 2.51}, {'expt': -9.82}, {'expt': -6.72}, {'expt': -7.48}, {'expt': 0.16}, {'expt': -2.16}, {'expt': -4.55}, {'expt': -4.55}, {'expt': -11.53}, {'expt': -1.17}, {'expt': -3.28}, {'expt': -5.73}, {'expt': -5.29}, {'expt': -9.41}, {'expt': -1.24}, {'expt': -7.5}, {'expt': -4.31}, {'expt': -5.73}, {'expt': -4.85}, {'expt': -0.9}, {'expt': 2.51}, {'expt': 0.01}, {'expt': -9.61}, {'expt': -0.25}, {'expt': -6.13}, {'expt': -0.46}, {'expt': -5.94}, {'expt': 0.56}, {'expt': -4.2}, {'expt': -4.39}, {'expt': -4.58}, {'expt': -2.44}, {'expt': -2.33}, {'expt': -3.43}, {'expt': 0.71}, {'expt': -6.48}, {'expt': -2.04}, {'expt': -5.48}, {'expt': -8.83}, {'expt': 0.29}, {'expt': -5.06}]\n"
     ]
    }
   ],
   "source": [
    "property_list = []\n",
    "for f in freesolv_expt:\n",
    "    \n",
    "    property_list.append(\n",
    "        {'expt': float(f)}\n",
    "    )\n",
    "\n",
    "print('Properties:', property_list)"
   ]
  },
  {
   "cell_type": "code",
   "execution_count": 7,
   "id": "dirty-train",
   "metadata": {},
   "outputs": [
    {
     "name": "stdout",
     "output_type": "stream",
     "text": [
      "rm: FreeSolvModel/FreeSolv_SchNet_dataset.db: No such file or directory\n"
     ]
    }
   ],
   "source": [
    "%rm 'FreeSolvModel/FreeSolv_SchNet_dataset.db'\n",
    "new_dataset = AtomsData(os.path.join(freesolvmod, 'FreeSolv_SchNet_dataset.db'), available_properties=['expt'])\n",
    "new_dataset.add_systems(atoms, property_list)"
   ]
  },
  {
   "cell_type": "code",
   "execution_count": 8,
   "id": "little-center",
   "metadata": {},
   "outputs": [
    {
     "name": "stdout",
     "output_type": "stream",
     "text": [
      "Number of reference calculations: 642\n",
      "Available properties:\n",
      "- expt\n",
      "\n",
      "Properties of molecule with id 0:\n",
      "- expt : torch.Size([1])\n",
      "- _atomic_numbers : torch.Size([26])\n",
      "- _positions : torch.Size([26, 3])\n",
      "- _neighbors : torch.Size([26, 25])\n",
      "- _cell : torch.Size([3, 3])\n",
      "- _cell_offset : torch.Size([26, 25, 3])\n",
      "- _idx : torch.Size([1])\n"
     ]
    }
   ],
   "source": [
    "print('Number of reference calculations:', len(new_dataset))\n",
    "print('Available properties:')\n",
    "\n",
    "for p in new_dataset.available_properties:\n",
    "    print('-', p)\n",
    "print()\n",
    "\n",
    "example = new_dataset[0]\n",
    "print('Properties of molecule with id 0:')\n",
    "\n",
    "for k, v in example.items():\n",
    "    print('-', k, ':', v.shape)"
   ]
  },
  {
   "cell_type": "code",
   "execution_count": 9,
   "id": "developing-annotation",
   "metadata": {},
   "outputs": [],
   "source": [
    "train, val, test = spk.train_test_split(\n",
    "        data=new_dataset,\n",
    "        num_train=400,\n",
    "        num_val=100,\n",
    "        split_file=None#os.path.join(freesolvmod, \"freesolv_split.npz\"),\n",
    "    )"
   ]
  },
  {
   "cell_type": "code",
   "execution_count": 10,
   "id": "together-connecticut",
   "metadata": {},
   "outputs": [],
   "source": [
    "train_loader = spk.AtomsLoader(train, batch_size=32, shuffle=True)\n",
    "val_loader = spk.AtomsLoader(val, batch_size=32)"
   ]
  },
  {
   "cell_type": "code",
   "execution_count": 11,
   "id": "respective-tribune",
   "metadata": {},
   "outputs": [],
   "source": [
    "schnet = spk.representation.SchNet(\n",
    "    n_atom_basis=30, n_filters=30, n_gaussians=20, n_interactions=5,\n",
    "    cutoff=7, cutoff_network=spk.nn.cutoff.CosineCutoff\n",
    ")"
   ]
  },
  {
   "cell_type": "code",
   "execution_count": 12,
   "id": "embedded-physiology",
   "metadata": {},
   "outputs": [],
   "source": [
    "output = spk.atomistic.Atomwise(n_in=30, property='expt')\n",
    "\n",
    "model = spk.AtomisticModel(representation=schnet, output_modules=output)"
   ]
  },
  {
   "cell_type": "code",
   "execution_count": 13,
   "id": "hollow-butterfly",
   "metadata": {},
   "outputs": [],
   "source": [
    "optimizer = Adam(model.parameters(), lr=1e-2)"
   ]
  },
  {
   "cell_type": "code",
   "execution_count": 14,
   "id": "twenty-reward",
   "metadata": {},
   "outputs": [],
   "source": [
    "loss = trn.build_mse_loss(['expt'])\n",
    "\n",
    "metrics = [spk.metrics.MeanAbsoluteError('expt')]\n",
    "\n",
    "hooks = [\n",
    "    trn.CSVHook(log_path=freesolvmod, metrics=metrics),\n",
    "    trn.ReduceLROnPlateauHook(\n",
    "        optimizer,\n",
    "        patience=5, factor=0.8, min_lr=1e-6,\n",
    "        stop_after_min=True\n",
    "    )\n",
    "]\n",
    "\n",
    "trainer = trn.Trainer(\n",
    "    model_path=freesolvmod,\n",
    "    model=model,\n",
    "    hooks=hooks,\n",
    "    loss_fn=loss,\n",
    "    optimizer=optimizer,\n",
    "    train_loader=train_loader,\n",
    "    validation_loader=val_loader,\n",
    ")"
   ]
  },
  {
   "cell_type": "code",
   "execution_count": 15,
   "id": "accredited-biography",
   "metadata": {},
   "outputs": [
    {
     "name": "stdout",
     "output_type": "stream",
     "text": [
      "training...\n",
      "Complted.\n",
      "CPU times: user 1min 39s, sys: 2 s, total: 1min 41s\n",
      "Wall time: 58.8 s\n"
     ]
    }
   ],
   "source": [
    "%%time\n",
    "device = \"cpu\" # change to 'cpu' if gpu is not available, change to cuda if gpu is\n",
    "n_epochs = 25 # takes about 10 min on a notebook GPU. reduces for playing around\n",
    "\n",
    "print('training...')\n",
    "trainer.train(device=device, n_epochs=n_epochs)\n",
    "print('Complted.')"
   ]
  },
  {
   "cell_type": "code",
   "execution_count": 16,
   "id": "daily-ending",
   "metadata": {},
   "outputs": [
    {
     "name": "stdout",
     "output_type": "stream",
     "text": [
      "Final validation MAE: 1.428\n"
     ]
    },
    {
     "data": {
      "image/png": "[encoded data removed]",
      "text/plain": [
       "<Figure size 1008x360 with 2 Axes>"
      ]
     },
     "metadata": {
      "needs_background": "light"
     },
     "output_type": "display_data"
    }
   ],
   "source": [
    "results = np.loadtxt(os.path.join('FreeSolvModel', 'log.csv'), skiprows=1, delimiter=',')\n",
    "\n",
    "time = results[:,0]-results[0,0]\n",
    "learning_rate = results[:,1]\n",
    "train_loss = results[:,2]\n",
    "val_loss = results[:,3]\n",
    "val_mae = results[:,4]\n",
    "\n",
    "print('Final validation MAE:', np.round(val_mae[-1], 3))\n",
    "\n",
    "plt.figure(figsize=(14,5))\n",
    "\n",
    "plt.subplot(1,2,1)\n",
    "plt.plot(time, val_loss, '--o', label='Validation')\n",
    "plt.plot(time, train_loss, '--o', label='Train')\n",
    "plt.yscale('log')\n",
    "plt.ylabel('Loss')\n",
    "plt.xlabel('Time [s]')\n",
    "plt.legend()\n",
    "plt.title('Loss during training')\n",
    "\n",
    "plt.subplot(1,2,2)\n",
    "plt.plot(time, val_mae, '--o')\n",
    "plt.ylabel('mean abs. error')\n",
    "plt.xlabel('Time [s]')\n",
    "plt.title('Absolute Error during training')\n",
    "plt.show()"
   ]
  },
  {
   "cell_type": "code",
   "execution_count": 17,
   "id": "digital-saudi",
   "metadata": {},
   "outputs": [
    {
     "data": {
      "text/plain": [
       "1.4284587478637696"
      ]
     },
     "execution_count": 17,
     "metadata": {},
     "output_type": "execute_result"
    }
   ],
   "source": [
    "val_mae[-1]"
   ]
  },
  {
   "cell_type": "code",
   "execution_count": null,
   "id": "indian-midwest",
   "metadata": {},
   "outputs": [],
   "source": []
  },
  {
   "cell_type": "code",
   "execution_count": 18,
   "id": "numeric-armor",
   "metadata": {},
   "outputs": [
    {
     "name": "stdout",
     "output_type": "stream",
     "text": [
      "Test MAE 1.310070199\n",
      "Test RMSE 1.7318199727\n"
     ]
    }
   ],
   "source": [
    "results_path = \"./FreeSolvModel\"\n",
    "\n",
    "best_model = torch.load(os.path.join(results_path, 'best_model'))\n",
    "\n",
    "#train, val, test = spk.train_test_split(\n",
    "#        data=new_dataset,\n",
    "#        split_file=os.path.join(freesolvmod, \"split.npz\"),\n",
    "#    )\n",
    "\n",
    "test_loader = spk.AtomsLoader(test, batch_size=32)\n",
    "\n",
    "err = 0\n",
    "rmse = 0\n",
    "\n",
    "actual_vals = []\n",
    "batch_preds = []\n",
    "for count, batch in enumerate(test_loader):\n",
    "    # move batch to GPU, if necessary\n",
    "    batch = {k: v.to(device) for k, v in batch.items()}\n",
    "\n",
    "    # apply model\n",
    "    pred = best_model(batch)\n",
    "#     print(pred['expt'].detach().cpu().numpy().shape)\n",
    "    actual_vals += list(np.squeeze(batch['expt'].detach().cpu().numpy()))\n",
    "    batch_preds += list(np.squeeze(pred['expt'].detach().cpu().numpy()))\n",
    "\n",
    "    # calculate absolute error\n",
    "    tmp = torch.sum(torch.abs(pred['expt']-batch['expt']))\n",
    "    tmp = tmp.detach().cpu().numpy() # detach from graph & convert to numpy\n",
    "    err += tmp\n",
    "    \n",
    "    # calculate RMSE:\n",
    "    tmp2 = torch.sum(torch.square(pred['expt']-batch['expt']))\n",
    "    tmp2 = tmp2.detach().cpu().numpy() # detach from graph & convert to numpy\n",
    "    rmse += tmp2\n",
    "\n",
    "    # log progress\n",
    "    percent = '{:3.2f}'.format(count/len(test_loader)*100)\n",
    "    print('Progress:', percent+'%'+' '*(5-len(percent)), end=\"\\r\")\n",
    "\n",
    "err /= len(test)\n",
    "rmse /= len(test)\n",
    "rmse = np.sqrt(rmse)\n",
    "print('Test MAE', np.round(err, 10))\n",
    "print('Test RMSE', np.round(rmse, 10))"
   ]
  },
  {
   "cell_type": "code",
   "execution_count": 19,
   "id": "final-review",
   "metadata": {},
   "outputs": [],
   "source": [
    "actual_vals = np.array(actual_vals)\n",
    "batch_preds = np.array(batch_preds)"
   ]
  },
  {
   "cell_type": "code",
   "execution_count": 20,
   "id": "bacterial-bradford",
   "metadata": {},
   "outputs": [
    {
     "data": {
      "image/png": "[encoded data removed]",
      "text/plain": [
       "<Figure size 360x360 with 1 Axes>"
      ]
     },
     "metadata": {
      "needs_background": "light"
     },
     "output_type": "display_data"
    }
   ],
   "source": [
    "x_vec = np.linspace(actual_vals.min(), actual_vals.max(), 100)\n",
    "\n",
    "fig, ax = plt.subplots(figsize=(5, 5))\n",
    "ax.plot(actual_vals, batch_preds, 'o', label='Samples')\n",
    "ax.plot(x_vec, x_vec, 'red', label='Perfect Prediction')\n",
    "ax.set_xlabel(\"Experimental Value\")\n",
    "ax.set_ylabel(\"Predicted Value\")\n",
    "ax.set_aspect('equal')\n",
    "ax.legend()\n",
    "plt.title('Hydration Free Energy Predictions (kJ/mol)')\n",
    "plt.show()"
   ]
  },
  {
   "cell_type": "code",
   "execution_count": null,
   "id": "right-consciousness",
   "metadata": {},
   "outputs": [],
   "source": []
  }
 ],
 "metadata": {
  "kernelspec": {
   "display_name": "Python 3",
   "language": "python",
   "name": "python3"
  },
  "language_info": {
   "codemirror_mode": {
    "name": "ipython",
    "version": 3
   },
   "file_extension": ".py",
   "mimetype": "text/x-python",
   "name": "python",
   "nbconvert_exporter": "python",
   "pygments_lexer": "ipython3",
   "version": "3.7.10"
  }
 },
 "nbformat": 4,
 "nbformat_minor": 5
}
