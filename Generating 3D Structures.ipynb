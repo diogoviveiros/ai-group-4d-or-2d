{
 "cells": [
  {
   "cell_type": "code",
   "execution_count": 57,
   "id": "basic-convergence",
   "metadata": {},
   "outputs": [],
   "source": [
    "import openbabel as ob\n",
    "import pybel\n",
    "\n",
    "from io import StringIO\n",
    "from ase.constraints import FixInternals\n",
    "from ase.optimize import BFGS\n",
    "from ase.io.xyz import read_xyz\n",
    "from ase import Atoms\n",
    "import networkx as nx"
   ]
  },
  {
   "cell_type": "markdown",
   "id": "ignored-michigan",
   "metadata": {},
   "source": [
    "Make the molecule object:"
   ]
  },
  {
   "cell_type": "code",
   "execution_count": 25,
   "id": "canadian-trance",
   "metadata": {},
   "outputs": [
    {
     "data": {
      "text/plain": [
       "True"
      ]
     },
     "execution_count": 25,
     "metadata": {},
     "output_type": "execute_result"
    }
   ],
   "source": [
    "test_smiles = \"O=[N+]([O-])c1ccc(SSc2ccc([N+](=O)[O-])cc2[N+](=O)[O-])c([N+](=O)[O-])c1\"\n",
    "\n",
    "obConversion = ob.OBConversion()\n",
    "obConversion.SetInAndOutFormats(\"smi\", \"mdl\")\n",
    "\n",
    "mol_ob = ob.OBMol()\n",
    "obConversion.ReadString(mol_ob, test_smiles)"
   ]
  },
  {
   "cell_type": "code",
   "execution_count": 24,
   "id": "official-directory",
   "metadata": {},
   "outputs": [
    {
     "data": {
      "image/svg+xml": [
       "<svg xmlns=\"http://www.w3.org/2000/svg\" font-family=\"sans-serif\" height=\"100\" stroke=\"rgb(0,0,0)\" stroke-linecap=\"round\" stroke-width=\"2\" viewBox=\"0 0 461.051 300\" width=\"100\" x=\"0\" y=\"0\">\n",
       "<line stroke=\"rgb(0,0,0)\" stroke-width=\"2.0\" x1=\"383.4\" x2=\"383.4\" y1=\"247.0\" y2=\"233.0\" />\n",
       "<line stroke=\"rgb(0,0,0)\" stroke-width=\"2.0\" x1=\"389.4\" x2=\"389.4\" y1=\"247.0\" y2=\"233.0\" />\n",
       "<line stroke=\"rgb(0,0,0)\" stroke-width=\"2.0\" x1=\"397.7\" x2=\"409.8\" y1=\"213.5\" y2=\"206.5\" />\n",
       "<line stroke=\"rgb(0,0,0)\" stroke-width=\"2.0\" x1=\"375.2\" x2=\"351.8\" y1=\"213.5\" y2=\"200.0\" />\n",
       "<line stroke=\"rgb(0,0,0)\" stroke-width=\"2.0\" x1=\"282.5\" x2=\"259.1\" y1=\"160.0\" y2=\"146.5\" />\n",
       "<line stroke=\"rgb(0,0,0)\" stroke-width=\"2.0\" x1=\"236.6\" x2=\"224.5\" y1=\"146.5\" y2=\"153.5\" />\n",
       "<line stroke=\"rgb(0,0,0)\" stroke-width=\"2.0\" x1=\"201.9\" x2=\"178.6\" y1=\"153.5\" y2=\"140.0\" />\n",
       "<line stroke=\"rgb(0,0,0)\" stroke-width=\"2.0\" x1=\"109.3\" x2=\"85.9\" y1=\"100.0\" y2=\"86.5\" />\n",
       "<line stroke=\"rgb(0,0,0)\" stroke-width=\"2.0\" x1=\"71.6\" x2=\"71.6\" y1=\"67.0\" y2=\"53.0\" />\n",
       "<line stroke=\"rgb(0,0,0)\" stroke-width=\"2.0\" x1=\"77.6\" x2=\"77.6\" y1=\"67.0\" y2=\"53.0\" />\n",
       "<line stroke=\"rgb(0,0,0)\" stroke-width=\"2.0\" x1=\"63.4\" x2=\"51.3\" y1=\"86.5\" y2=\"93.5\" />\n",
       "<line stroke=\"rgb(0,0,0)\" stroke-width=\"2.0\" x1=\"178.6\" x2=\"201.9\" y1=\"100.0\" y2=\"86.5\" />\n",
       "<line stroke=\"rgb(0,0,0)\" stroke-width=\"2.0\" x1=\"226.0\" x2=\"238.1\" y1=\"83.9\" y2=\"90.9\" />\n",
       "<line stroke=\"rgb(0,0,0)\" stroke-width=\"2.0\" x1=\"223.0\" x2=\"235.1\" y1=\"89.1\" y2=\"96.1\" />\n",
       "<line stroke=\"rgb(0,0,0)\" stroke-width=\"2.0\" x1=\"213.2\" x2=\"213.2\" y1=\"67.0\" y2=\"53.0\" />\n",
       "<line stroke=\"rgb(0,0,0)\" stroke-width=\"2.0\" x1=\"317.1\" x2=\"317.1\" y1=\"140.0\" y2=\"113.0\" />\n",
       "<line stroke=\"rgb(0,0,0)\" stroke-width=\"2.0\" x1=\"326.9\" x2=\"339.0\" y1=\"90.9\" y2=\"83.9\" />\n",
       "<line stroke=\"rgb(0,0,0)\" stroke-width=\"2.0\" x1=\"329.9\" x2=\"342.0\" y1=\"96.1\" y2=\"89.1\" />\n",
       "<line stroke=\"rgb(0,0,0)\" stroke-width=\"2.0\" x1=\"305.9\" x2=\"293.7\" y1=\"93.5\" y2=\"86.5\" />\n",
       "<line stroke=\"rgb(0,0,0)\" stroke-width=\"2.0\" x1=\"282.5\" x2=\"282.5\" y1=\"200.0\" y2=\"160.0\" />\n",
       "<line stroke=\"rgb(0,0,0)\" stroke-width=\"2.0\" x1=\"289.7\" x2=\"289.7\" y1=\"194.0\" y2=\"166.0\" />\n",
       "<line stroke=\"rgb(0,0,0)\" stroke-width=\"2.0\" x1=\"282.5\" x2=\"317.1\" y1=\"160.0\" y2=\"140.0\" />\n",
       "<line stroke=\"rgb(0,0,0)\" stroke-width=\"2.0\" x1=\"317.1\" x2=\"351.8\" y1=\"140.0\" y2=\"160.0\" />\n",
       "<line stroke=\"rgb(0,0,0)\" stroke-width=\"2.0\" x1=\"318.7\" x2=\"343.0\" y1=\"149.2\" y2=\"163.2\" />\n",
       "<line stroke=\"rgb(0,0,0)\" stroke-width=\"2.0\" x1=\"351.8\" x2=\"351.8\" y1=\"160.0\" y2=\"200.0\" />\n",
       "<line stroke=\"rgb(0,0,0)\" stroke-width=\"2.0\" x1=\"351.8\" x2=\"317.1\" y1=\"200.0\" y2=\"220.0\" />\n",
       "<line stroke=\"rgb(0,0,0)\" stroke-width=\"2.0\" x1=\"343.0\" x2=\"318.7\" y1=\"196.8\" y2=\"210.8\" />\n",
       "<line stroke=\"rgb(0,0,0)\" stroke-width=\"2.0\" x1=\"317.1\" x2=\"282.5\" y1=\"220.0\" y2=\"200.0\" />\n",
       "<line stroke=\"rgb(0,0,0)\" stroke-width=\"2.0\" x1=\"109.3\" x2=\"109.3\" y1=\"140.0\" y2=\"100.0\" />\n",
       "<line stroke=\"rgb(0,0,0)\" stroke-width=\"2.0\" x1=\"116.5\" x2=\"116.5\" y1=\"134.0\" y2=\"106.0\" />\n",
       "<line stroke=\"rgb(0,0,0)\" stroke-width=\"2.0\" x1=\"109.3\" x2=\"143.9\" y1=\"100.0\" y2=\"80.0\" />\n",
       "<line stroke=\"rgb(0,0,0)\" stroke-width=\"2.0\" x1=\"143.9\" x2=\"178.6\" y1=\"80.0\" y2=\"100.0\" />\n",
       "<line stroke=\"rgb(0,0,0)\" stroke-width=\"2.0\" x1=\"145.5\" x2=\"169.8\" y1=\"89.2\" y2=\"103.2\" />\n",
       "<line stroke=\"rgb(0,0,0)\" stroke-width=\"2.0\" x1=\"178.6\" x2=\"178.6\" y1=\"100.0\" y2=\"140.0\" />\n",
       "<line stroke=\"rgb(0,0,0)\" stroke-width=\"2.0\" x1=\"178.6\" x2=\"143.9\" y1=\"140.0\" y2=\"160.0\" />\n",
       "<line stroke=\"rgb(0,0,0)\" stroke-width=\"2.0\" x1=\"169.8\" x2=\"145.5\" y1=\"136.8\" y2=\"150.8\" />\n",
       "<line stroke=\"rgb(0,0,0)\" stroke-width=\"2.0\" x1=\"143.9\" x2=\"109.3\" y1=\"160.0\" y2=\"140.0\" />\n",
       "<text fill=\"rgb(255,12,12)\" font-size=\"16\" stroke=\"rgb(255,12,12)\" stroke-width=\"1\" x=\"380.410162\" y=\"268.000000\">O</text>\n",
       "<text fill=\"rgb(12,12,255)\" font-size=\"16\" stroke=\"rgb(12,12,255)\" stroke-width=\"1\" x=\"391.210162\" y=\"215.968000\">+</text>\n",
       "<text fill=\"rgb(12,12,255)\" font-size=\"16\" stroke=\"rgb(12,12,255)\" stroke-width=\"1\" x=\"380.410162\" y=\"228.000000\">N</text>\n",
       "<text fill=\"rgb(255,12,12)\" font-size=\"16\" stroke=\"rgb(255,12,12)\" stroke-width=\"1\" x=\"425.851178\" y=\"185.888000\">_</text>\n",
       "<text fill=\"rgb(255,12,12)\" font-size=\"16\" stroke=\"rgb(255,12,12)\" stroke-width=\"1\" x=\"415.051178\" y=\"208.000000\">O</text>\n",
       "<text fill=\"rgb(178,178,0)\" font-size=\"16\" stroke=\"rgb(178,178,0)\" stroke-width=\"1\" x=\"241.846097\" y=\"148.000000\">S</text>\n",
       "<text fill=\"rgb(178,178,0)\" font-size=\"16\" stroke=\"rgb(178,178,0)\" stroke-width=\"1\" x=\"207.205081\" y=\"168.000000\">S</text>\n",
       "<text fill=\"rgb(12,12,255)\" font-size=\"16\" stroke=\"rgb(12,12,255)\" stroke-width=\"1\" x=\"79.441016\" y=\"75.968000\">+</text>\n",
       "<text fill=\"rgb(12,12,255)\" font-size=\"16\" stroke=\"rgb(12,12,255)\" stroke-width=\"1\" x=\"68.641016\" y=\"88.000000\">N</text>\n",
       "<text fill=\"rgb(255,12,12)\" font-size=\"16\" stroke=\"rgb(255,12,12)\" stroke-width=\"1\" x=\"68.641016\" y=\"48.000000\">O</text>\n",
       "<text fill=\"rgb(255,12,12)\" font-size=\"16\" stroke=\"rgb(255,12,12)\" stroke-width=\"1\" x=\"44.800000\" y=\"85.888000\">_</text>\n",
       "<text fill=\"rgb(255,12,12)\" font-size=\"16\" stroke=\"rgb(255,12,12)\" stroke-width=\"1\" x=\"34.000000\" y=\"108.000000\">O</text>\n",
       "<text fill=\"rgb(12,12,255)\" font-size=\"16\" stroke=\"rgb(12,12,255)\" stroke-width=\"1\" x=\"218.005081\" y=\"75.968000\">+</text>\n",
       "<text fill=\"rgb(12,12,255)\" font-size=\"16\" stroke=\"rgb(12,12,255)\" stroke-width=\"1\" x=\"207.205081\" y=\"88.000000\">N</text>\n",
       "<text fill=\"rgb(255,12,12)\" font-size=\"16\" stroke=\"rgb(255,12,12)\" stroke-width=\"1\" x=\"241.846097\" y=\"108.000000\">O</text>\n",
       "<text fill=\"rgb(255,12,12)\" font-size=\"16\" stroke=\"rgb(255,12,12)\" stroke-width=\"1\" x=\"218.005081\" y=\"25.888000\">_</text>\n",
       "<text fill=\"rgb(255,12,12)\" font-size=\"16\" stroke=\"rgb(255,12,12)\" stroke-width=\"1\" x=\"207.205081\" y=\"48.000000\">O</text>\n",
       "<text fill=\"rgb(12,12,255)\" font-size=\"16\" stroke=\"rgb(12,12,255)\" stroke-width=\"1\" x=\"321.928129\" y=\"95.968000\">+</text>\n",
       "<text fill=\"rgb(12,12,255)\" font-size=\"16\" stroke=\"rgb(12,12,255)\" stroke-width=\"1\" x=\"311.128129\" y=\"108.000000\">N</text>\n",
       "<text fill=\"rgb(255,12,12)\" font-size=\"16\" stroke=\"rgb(255,12,12)\" stroke-width=\"1\" x=\"345.769145\" y=\"88.000000\">O</text>\n",
       "<text fill=\"rgb(255,12,12)\" font-size=\"16\" stroke=\"rgb(255,12,12)\" stroke-width=\"1\" x=\"287.287113\" y=\"65.888000\">_</text>\n",
       "<text fill=\"rgb(255,12,12)\" font-size=\"16\" stroke=\"rgb(255,12,12)\" stroke-width=\"1\" x=\"276.487113\" y=\"88.000000\">O</text>\n",
       "</svg>\n"
      ],
      "text/plain": [
       "<pybel.Molecule at 0x7fd0d04cd8d0>"
      ]
     },
     "execution_count": 24,
     "metadata": {},
     "output_type": "execute_result"
    }
   ],
   "source": [
    "mol_pybel = pybel.Molecule(mol_ob)\n",
    "mol_pybel"
   ]
  },
  {
   "cell_type": "code",
   "execution_count": 16,
   "id": "recovered-comfort",
   "metadata": {},
   "outputs": [
    {
     "ename": "ImportError",
     "evalue": "Tkinter or Python Imaging Library not found, but is required for image display. See installation instructions for more information.",
     "output_type": "error",
     "traceback": [
      "\u001b[0;31m---------------------------------------------------------------------------\u001b[0m",
      "\u001b[0;31mImportError\u001b[0m                               Traceback (most recent call last)",
      "\u001b[0;32m<ipython-input-16-0b2cf693e208>\u001b[0m in \u001b[0;36m<module>\u001b[0;34m\u001b[0m\n\u001b[0;32m----> 1\u001b[0;31m \u001b[0mmol_pybel\u001b[0m\u001b[0;34m.\u001b[0m\u001b[0mdraw\u001b[0m\u001b[0;34m(\u001b[0m\u001b[0;34m)\u001b[0m\u001b[0;34m\u001b[0m\u001b[0;34m\u001b[0m\u001b[0m\n\u001b[0m",
      "\u001b[0;32m/opt/anaconda3/envs/applied-ai/lib/python3.7/site-packages/pybel.py\u001b[0m in \u001b[0;36mdraw\u001b[0;34m(self, show, filename, update, usecoords)\u001b[0m\n\u001b[1;32m    666\u001b[0m             \u001b[0;32melse\u001b[0m\u001b[0;34m:\u001b[0m\u001b[0;34m\u001b[0m\u001b[0;34m\u001b[0m\u001b[0m\n\u001b[1;32m    667\u001b[0m                 \u001b[0;32mif\u001b[0m \u001b[0;32mnot\u001b[0m \u001b[0mtk\u001b[0m\u001b[0;34m:\u001b[0m\u001b[0;34m\u001b[0m\u001b[0;34m\u001b[0m\u001b[0m\n\u001b[0;32m--> 668\u001b[0;31m                     raise ImportError(\"Tkinter or Python Imaging Library not \"\n\u001b[0m\u001b[1;32m    669\u001b[0m                                       \u001b[0;34m\"found, but is required for image \"\u001b[0m\u001b[0;34m\u001b[0m\u001b[0;34m\u001b[0m\u001b[0m\n\u001b[1;32m    670\u001b[0m                                       \u001b[0;34m\"display. See installation instructions \"\u001b[0m\u001b[0;34m\u001b[0m\u001b[0;34m\u001b[0m\u001b[0m\n",
      "\u001b[0;31mImportError\u001b[0m: Tkinter or Python Imaging Library not found, but is required for image display. See installation instructions for more information."
     ]
    }
   ],
   "source": [
    "mol_pybel.draw()"
   ]
  },
  {
   "cell_type": "code",
   "execution_count": 50,
   "id": "tired-pressing",
   "metadata": {},
   "outputs": [
    {
     "data": {
      "text/plain": [
       "{'acesin': 'ACES input format',\n",
       " 'adf': 'ADF cartesian input format',\n",
       " 'alc': 'Alchemy format',\n",
       " 'ascii': 'ASCII format',\n",
       " 'bgf': 'MSI BGF format',\n",
       " 'box': 'Dock 3.5 Box format',\n",
       " 'bs': 'Ball and Stick format',\n",
       " 'c3d1': 'Chem3D Cartesian 1 format',\n",
       " 'c3d2': 'Chem3D Cartesian 2 format',\n",
       " 'cac': 'CAChe MolStruct format',\n",
       " 'caccrt': 'Cacao Cartesian format',\n",
       " 'cache': 'CAChe MolStruct format',\n",
       " 'cacint': 'Cacao Internal format',\n",
       " 'can': 'Canonical SMILES format',\n",
       " 'cdjson': 'ChemDoodle JSON',\n",
       " 'cdxml': 'ChemDraw CDXML format',\n",
       " 'cht': 'Chemtool format',\n",
       " 'cif': 'Crystallographic Information File',\n",
       " 'ck': 'ChemKin format',\n",
       " 'cml': 'Chemical Markup Language',\n",
       " 'cmlr': 'CML Reaction format',\n",
       " 'com': 'Gaussian 98/03 Input',\n",
       " 'confabreport': 'Confab report format',\n",
       " 'CONFIG': 'DL-POLY CONFIG',\n",
       " 'CONTCAR': 'VASP format',\n",
       " 'CONTFF': 'MDFF format',\n",
       " 'copy': 'Copy raw text',\n",
       " 'crk2d': 'Chemical Resource Kit diagram(2D)',\n",
       " 'crk3d': 'Chemical Resource Kit 3D format',\n",
       " 'csr': 'Accelrys/MSI Quanta CSR format',\n",
       " 'cssr': 'CSD CSSR format',\n",
       " 'ct': 'ChemDraw Connection Table format',\n",
       " 'cub': 'Gaussian cube format',\n",
       " 'cube': 'Gaussian cube format',\n",
       " 'dalmol': 'DALTON input format',\n",
       " 'dmol': 'DMol3 coordinates format',\n",
       " 'dx': 'OpenDX cube format for APBS',\n",
       " 'ent': 'Protein Data Bank format',\n",
       " 'exyz': 'Extended XYZ cartesian coordinates format',\n",
       " 'fa': 'FASTA format',\n",
       " 'fasta': 'FASTA format',\n",
       " 'feat': 'Feature format',\n",
       " 'fh': 'Fenske-Hall Z-Matrix format',\n",
       " 'fhiaims': 'FHIaims XYZ format',\n",
       " 'fix': 'SMILES FIX format',\n",
       " 'fps': 'FPS text fingerprint format (Dalke)',\n",
       " 'fpt': 'Fingerprint format',\n",
       " 'fract': 'Free Form Fractional format',\n",
       " 'fs': 'Fastsearch format',\n",
       " 'fsa': 'FASTA format',\n",
       " 'gamin': 'GAMESS Input',\n",
       " 'gau': 'Gaussian 98/03 Input',\n",
       " 'gjc': 'Gaussian 98/03 Input',\n",
       " 'gjf': 'Gaussian 98/03 Input',\n",
       " 'gpr': 'Ghemical format',\n",
       " 'gr96': 'GROMOS96 format',\n",
       " 'gro': 'GRO format',\n",
       " 'gukin': 'GAMESS-UK Input',\n",
       " 'gukout': 'GAMESS-UK Output',\n",
       " 'gzmat': 'Gaussian Z-Matrix Input',\n",
       " 'hin': 'HyperChem HIN format',\n",
       " 'inchi': 'InChI format',\n",
       " 'inchikey': 'InChIKey',\n",
       " 'inp': 'GAMESS Input',\n",
       " 'jin': 'Jaguar input format',\n",
       " 'k': 'Compare molecules using InChI',\n",
       " 'lmpdat': 'The LAMMPS data format',\n",
       " 'lpmd': 'LPMD format',\n",
       " 'mcdl': 'MCDL format',\n",
       " 'mcif': 'Macromolecular Crystallographic Info',\n",
       " 'MDFF': 'MDFF format',\n",
       " 'mdl': 'MDL MOL format',\n",
       " 'ml2': 'Sybyl Mol2 format',\n",
       " 'mmcif': 'Macromolecular Crystallographic Info',\n",
       " 'mmd': 'MacroModel format',\n",
       " 'mmod': 'MacroModel format',\n",
       " 'mna': 'Multilevel Neighborhoods of Atoms (MNA)',\n",
       " 'mol': 'MDL MOL format',\n",
       " 'mol2': 'Sybyl Mol2 format',\n",
       " 'mold': 'Molden format',\n",
       " 'molden': 'Molden format',\n",
       " 'molf': 'Molden format',\n",
       " 'molreport': 'Open Babel molecule report',\n",
       " 'mop': 'MOPAC Cartesian format',\n",
       " 'mopcrt': 'MOPAC Cartesian format',\n",
       " 'mopin': 'MOPAC Internal',\n",
       " 'mp': 'Molpro input format',\n",
       " 'mpc': 'MOPAC Cartesian format',\n",
       " 'mpd': 'MolPrint2D format',\n",
       " 'mpqcin': 'MPQC simplified input format',\n",
       " 'mrv': 'Chemical Markup Language',\n",
       " 'msms': \"M.F. Sanner's MSMS input format\",\n",
       " 'nul': 'Outputs nothing',\n",
       " 'nw': 'NWChem input format',\n",
       " 'orcainp': 'ORCA input format',\n",
       " 'outmol': 'DMol3 coordinates format',\n",
       " 'paint': 'Painter format',\n",
       " 'pcjson': 'PubChem JSON',\n",
       " 'pcm': 'PCModel Format',\n",
       " 'pdb': 'Protein Data Bank format',\n",
       " 'pdbqt': 'AutoDock PDBQT format',\n",
       " 'png': 'PNG 2D depiction',\n",
       " 'pointcloud': 'Point cloud on VDW surface',\n",
       " 'POSCAR': 'VASP format',\n",
       " 'POSFF': 'MDFF format',\n",
       " 'pov': 'POV-Ray input format',\n",
       " 'pqr': 'PQR format',\n",
       " 'pqs': 'Parallel Quantum Solutions format',\n",
       " 'qcin': 'Q-Chem input format',\n",
       " 'report': 'Open Babel report format',\n",
       " 'rsmi': 'Reaction SMILES format',\n",
       " 'rxn': 'MDL RXN format',\n",
       " 'sd': 'MDL MOL format',\n",
       " 'sdf': 'MDL MOL format',\n",
       " 'smi': 'SMILES format',\n",
       " 'smiles': 'SMILES format',\n",
       " 'stl': 'STL 3D-printing format',\n",
       " 'svg': 'SVG 2D depiction',\n",
       " 'sy2': 'Sybyl Mol2 format',\n",
       " 'tdd': 'Thermo format',\n",
       " 'text': 'Read and write raw text',\n",
       " 'therm': 'Thermo format',\n",
       " 'tmol': 'TurboMole Coordinate format',\n",
       " 'txt': 'Title format',\n",
       " 'txyz': 'Tinker XYZ format',\n",
       " 'unixyz': 'UniChem XYZ format',\n",
       " 'VASP': 'VASP format',\n",
       " 'vmol': 'ViewMol format',\n",
       " 'xed': 'XED format',\n",
       " 'xyz': 'XYZ cartesian coordinates format',\n",
       " 'yob': 'YASARA.org YOB format',\n",
       " 'zin': 'ZINDO input format'}"
      ]
     },
     "execution_count": 50,
     "metadata": {},
     "output_type": "execute_result"
    }
   ],
   "source": [
    "pybel.outformats"
   ]
  },
  {
   "cell_type": "markdown",
   "id": "varied-assumption",
   "metadata": {},
   "source": [
    "We want the `'xyz': 'XYZ cartesian coordinates format'` option:"
   ]
  },
  {
   "cell_type": "code",
   "execution_count": 53,
   "id": "controlling-count",
   "metadata": {},
   "outputs": [
    {
     "name": "stdout",
     "output_type": "stream",
     "text": [
      "32\n",
      "\n",
      "O          1.11128       -0.07438       -0.02742\n",
      "N          2.34887       -0.04174       -0.02193\n",
      "O          3.05072        0.85550        0.45753\n",
      "C          3.03208       -1.14366       -0.68006\n",
      "C          3.88066       -0.86913       -1.74576\n",
      "C          4.37169       -1.92962       -2.50996\n",
      "C          3.89480       -3.24570       -2.33417\n",
      "S          3.95245       -4.31239       -3.80597\n",
      "S          5.66472       -3.84835       -4.88239\n",
      "C          5.98593       -5.33353       -5.85052\n",
      "C          6.15027       -5.11946       -7.24181\n",
      "C          6.14854       -6.18378       -8.15692\n",
      "C          6.09923       -7.49339       -7.68127\n",
      "N          5.97702       -8.61877       -8.62158\n",
      "O          5.89246       -8.35109       -9.82926\n",
      "O          5.93951       -9.76025       -8.14773\n",
      "C          6.12530       -7.73827       -6.30407\n",
      "C          6.02963       -6.66270       -5.38983\n",
      "N          5.98358       -7.02622       -3.96247\n",
      "O          5.67442       -8.18853       -3.68816\n",
      "O          6.31377       -6.17799       -3.11762\n",
      "C          3.11224       -3.51015       -1.17680\n",
      "N          2.57897       -4.84890       -0.84227\n",
      "O          2.88385       -5.81598       -1.54647\n",
      "O          1.83976       -4.92956        0.15083\n",
      "C          2.72644       -2.45409       -0.31693\n",
      "H          4.11193        0.15314       -2.03928\n",
      "H          5.05397       -1.68287       -3.31874\n",
      "H          6.24856       -4.10928       -7.64389\n",
      "H          6.16398       -5.97322       -9.22697\n",
      "H          6.19663       -8.76239       -5.93945\n",
      "H          2.13093       -2.63081        0.57937\n",
      "\n"
     ]
    }
   ],
   "source": [
    "mol_pybel.make3D()\n",
    "coord = mol_pybel.write(format='xyz')\n",
    "print(coord)"
   ]
  },
  {
   "cell_type": "markdown",
   "id": "hidden-grave",
   "metadata": {},
   "source": [
    "Using applied-ai-for-materials/optimal-experimental-design/assignment/confutils.py as a template, convert these coordinates into ASE objects to get them ready for shnet,"
   ]
  },
  {
   "cell_type": "code",
   "execution_count": 60,
   "id": "obvious-blond",
   "metadata": {},
   "outputs": [],
   "source": [
    "# Convert it to ASE\n",
    "atoms = next(read_xyz(StringIO(mol_pybel.write('xyz')), slice(None)))\n",
    "\n",
    "# Get the bonding graph\n",
    "g = nx.Graph()\n",
    "g.add_nodes_from(range(len(mol_pybel.atoms)))\n",
    "for bond in ob.OBMolBondIter(mol_pybel.OBMol):\n",
    "    g.add_edge(bond.GetBeginAtomIdx() - 1, bond.GetEndAtomIdx() - 1, data={\"rotor\": bond.IsRotor()})"
   ]
  },
  {
   "cell_type": "code",
   "execution_count": 87,
   "id": "august-ending",
   "metadata": {},
   "outputs": [
    {
     "name": "stdout",
     "output_type": "stream",
     "text": [
      "Atoms(symbols='ONOC4S2C4NO2C2NO2CNO2CH6', pbc=False)\n",
      "The generated graph:\n"
     ]
    },
    {
     "data": {
      "image/png": "[encoded data removed]",
      "text/plain": [
       "<Figure size 432x288 with 1 Axes>"
      ]
     },
     "metadata": {},
     "output_type": "display_data"
    }
   ],
   "source": [
    "print(atoms)\n",
    "print('The generated graph:')\n",
    "nx.draw(g)"
   ]
  },
  {
   "cell_type": "markdown",
   "id": "abstract-culture",
   "metadata": {},
   "source": [
    "Tried working directly with the `openbabel` module, and ran into issues with C++ pointers:  \n",
    "(The pyble code above is much better)"
   ]
  },
  {
   "cell_type": "code",
   "execution_count": 37,
   "id": "collective-texas",
   "metadata": {},
   "outputs": [],
   "source": [
    "builder = ob.OBBuilder()\n",
    "builder.Build(mol_ob)"
   ]
  },
  {
   "cell_type": "code",
   "execution_count": 42,
   "id": "distinct-swedish",
   "metadata": {},
   "outputs": [
    {
     "data": {
      "text/plain": [
       "True"
      ]
     },
     "execution_count": 42,
     "metadata": {},
     "output_type": "execute_result"
    }
   ],
   "source": [
    "mol_ob.Has3D()"
   ]
  },
  {
   "cell_type": "code",
   "execution_count": 41,
   "id": "alternate-victor",
   "metadata": {},
   "outputs": [
    {
     "data": {
      "text/plain": [
       "<Swig Object of type 'double *' at 0x7fd0d0f22d20>"
      ]
     },
     "execution_count": 41,
     "metadata": {},
     "output_type": "execute_result"
    }
   ],
   "source": [
    "mol_ob.GetCoordinates()"
   ]
  },
  {
   "cell_type": "code",
   "execution_count": null,
   "id": "deadly-tension",
   "metadata": {},
   "outputs": [],
   "source": []
  }
 ],
 "metadata": {
  "kernelspec": {
   "display_name": "Python 3",
   "language": "python",
   "name": "python3"
  },
  "language_info": {
   "codemirror_mode": {
    "name": "ipython",
    "version": 3
   },
   "file_extension": ".py",
   "mimetype": "text/x-python",
   "name": "python",
   "nbconvert_exporter": "python",
   "pygments_lexer": "ipython3",
   "version": "3.7.10"
  }
 },
 "nbformat": 4,
 "nbformat_minor": 5
}
