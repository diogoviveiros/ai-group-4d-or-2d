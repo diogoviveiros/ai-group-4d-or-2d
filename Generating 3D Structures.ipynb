{
 "cells": [
  {
   "cell_type": "markdown",
   "id": "swedish-ticket",
   "metadata": {},
   "source": [
    "# Group 4: 3D Coordinates\n",
    "Generating 3D coordinates from smiles formulas using openbabel."
   ]
  },
  {
   "cell_type": "code",
   "execution_count": 1,
   "id": "egyptian-exchange",
   "metadata": {},
   "outputs": [],
   "source": [
    "import openbabel as ob\n",
    "import pybel\n",
    "import pandas as pd\n",
    "\n",
    "from io import StringIO\n",
    "from ase.constraints import FixInternals\n",
    "from ase.optimize import BFGS\n",
    "from ase.io.xyz import read_xyz\n",
    "from ase import Atoms\n",
    "import networkx as nx"
   ]
  },
  {
   "cell_type": "markdown",
   "id": "cloudy-fountain",
   "metadata": {},
   "source": [
    "Make the molecule object:"
   ]
  },
  {
   "cell_type": "code",
   "execution_count": 2,
   "id": "welcome-inflation",
   "metadata": {},
   "outputs": [
    {
     "data": {
      "text/plain": [
       "True"
      ]
     },
     "execution_count": 2,
     "metadata": {},
     "output_type": "execute_result"
    }
   ],
   "source": [
    "test_smiles = \"O=[N+]([O-])c1ccc(SSc2ccc([N+](=O)[O-])cc2[N+](=O)[O-])c([N+](=O)[O-])c1\"\n",
    "\n",
    "obConversion = ob.OBConversion()\n",
    "obConversion.SetInAndOutFormats(\"smi\", \"smi\")\n",
    "\n",
    "# Make a molecule object using the openbabel C++ wrapper:\n",
    "mol_ob = ob.OBMol()\n",
    "\n",
    "# Note that this function stores the molucule information in the mol_ob object: \n",
    "obConversion.ReadString(mol_ob, test_smiles)"
   ]
  },
  {
   "cell_type": "markdown",
   "id": "revolutionary-authentication",
   "metadata": {},
   "source": [
    "Now we can convert this openbabel molecule into a pybel object, which is a python package extending more functionality of openbabel into python more smoothly:"
   ]
  },
  {
   "cell_type": "code",
   "execution_count": 3,
   "id": "blond-helicopter",
   "metadata": {},
   "outputs": [
    {
     "data": {
      "image/svg+xml": [
       "<svg xmlns=\"http://www.w3.org/2000/svg\" font-family=\"sans-serif\" height=\"100\" stroke=\"rgb(0,0,0)\" stroke-linecap=\"round\" stroke-width=\"2\" viewBox=\"0 0 461.051 300\" width=\"100\" x=\"0\" y=\"0\">\n",
       "<line stroke=\"rgb(0,0,0)\" stroke-width=\"2.0\" x1=\"383.4\" x2=\"383.4\" y1=\"247.0\" y2=\"233.0\" />\n",
       "<line stroke=\"rgb(0,0,0)\" stroke-width=\"2.0\" x1=\"389.4\" x2=\"389.4\" y1=\"247.0\" y2=\"233.0\" />\n",
       "<line stroke=\"rgb(0,0,0)\" stroke-width=\"2.0\" x1=\"397.7\" x2=\"409.8\" y1=\"213.5\" y2=\"206.5\" />\n",
       "<line stroke=\"rgb(0,0,0)\" stroke-width=\"2.0\" x1=\"375.2\" x2=\"351.8\" y1=\"213.5\" y2=\"200.0\" />\n",
       "<line stroke=\"rgb(0,0,0)\" stroke-width=\"2.0\" x1=\"282.5\" x2=\"259.1\" y1=\"160.0\" y2=\"146.5\" />\n",
       "<line stroke=\"rgb(0,0,0)\" stroke-width=\"2.0\" x1=\"236.6\" x2=\"224.5\" y1=\"146.5\" y2=\"153.5\" />\n",
       "<line stroke=\"rgb(0,0,0)\" stroke-width=\"2.0\" x1=\"201.9\" x2=\"178.6\" y1=\"153.5\" y2=\"140.0\" />\n",
       "<line stroke=\"rgb(0,0,0)\" stroke-width=\"2.0\" x1=\"109.3\" x2=\"85.9\" y1=\"100.0\" y2=\"86.5\" />\n",
       "<line stroke=\"rgb(0,0,0)\" stroke-width=\"2.0\" x1=\"71.6\" x2=\"71.6\" y1=\"67.0\" y2=\"53.0\" />\n",
       "<line stroke=\"rgb(0,0,0)\" stroke-width=\"2.0\" x1=\"77.6\" x2=\"77.6\" y1=\"67.0\" y2=\"53.0\" />\n",
       "<line stroke=\"rgb(0,0,0)\" stroke-width=\"2.0\" x1=\"63.4\" x2=\"51.3\" y1=\"86.5\" y2=\"93.5\" />\n",
       "<line stroke=\"rgb(0,0,0)\" stroke-width=\"2.0\" x1=\"178.6\" x2=\"201.9\" y1=\"100.0\" y2=\"86.5\" />\n",
       "<line stroke=\"rgb(0,0,0)\" stroke-width=\"2.0\" x1=\"226.0\" x2=\"238.1\" y1=\"83.9\" y2=\"90.9\" />\n",
       "<line stroke=\"rgb(0,0,0)\" stroke-width=\"2.0\" x1=\"223.0\" x2=\"235.1\" y1=\"89.1\" y2=\"96.1\" />\n",
       "<line stroke=\"rgb(0,0,0)\" stroke-width=\"2.0\" x1=\"213.2\" x2=\"213.2\" y1=\"67.0\" y2=\"53.0\" />\n",
       "<line stroke=\"rgb(0,0,0)\" stroke-width=\"2.0\" x1=\"317.1\" x2=\"317.1\" y1=\"140.0\" y2=\"113.0\" />\n",
       "<line stroke=\"rgb(0,0,0)\" stroke-width=\"2.0\" x1=\"326.9\" x2=\"339.0\" y1=\"90.9\" y2=\"83.9\" />\n",
       "<line stroke=\"rgb(0,0,0)\" stroke-width=\"2.0\" x1=\"329.9\" x2=\"342.0\" y1=\"96.1\" y2=\"89.1\" />\n",
       "<line stroke=\"rgb(0,0,0)\" stroke-width=\"2.0\" x1=\"305.9\" x2=\"293.7\" y1=\"93.5\" y2=\"86.5\" />\n",
       "<line stroke=\"rgb(0,0,0)\" stroke-width=\"2.0\" x1=\"282.5\" x2=\"282.5\" y1=\"200.0\" y2=\"160.0\" />\n",
       "<line stroke=\"rgb(0,0,0)\" stroke-width=\"2.0\" x1=\"289.7\" x2=\"289.7\" y1=\"194.0\" y2=\"166.0\" />\n",
       "<line stroke=\"rgb(0,0,0)\" stroke-width=\"2.0\" x1=\"282.5\" x2=\"317.1\" y1=\"160.0\" y2=\"140.0\" />\n",
       "<line stroke=\"rgb(0,0,0)\" stroke-width=\"2.0\" x1=\"317.1\" x2=\"351.8\" y1=\"140.0\" y2=\"160.0\" />\n",
       "<line stroke=\"rgb(0,0,0)\" stroke-width=\"2.0\" x1=\"318.7\" x2=\"343.0\" y1=\"149.2\" y2=\"163.2\" />\n",
       "<line stroke=\"rgb(0,0,0)\" stroke-width=\"2.0\" x1=\"351.8\" x2=\"351.8\" y1=\"160.0\" y2=\"200.0\" />\n",
       "<line stroke=\"rgb(0,0,0)\" stroke-width=\"2.0\" x1=\"351.8\" x2=\"317.1\" y1=\"200.0\" y2=\"220.0\" />\n",
       "<line stroke=\"rgb(0,0,0)\" stroke-width=\"2.0\" x1=\"343.0\" x2=\"318.7\" y1=\"196.8\" y2=\"210.8\" />\n",
       "<line stroke=\"rgb(0,0,0)\" stroke-width=\"2.0\" x1=\"317.1\" x2=\"282.5\" y1=\"220.0\" y2=\"200.0\" />\n",
       "<line stroke=\"rgb(0,0,0)\" stroke-width=\"2.0\" x1=\"109.3\" x2=\"109.3\" y1=\"140.0\" y2=\"100.0\" />\n",
       "<line stroke=\"rgb(0,0,0)\" stroke-width=\"2.0\" x1=\"116.5\" x2=\"116.5\" y1=\"134.0\" y2=\"106.0\" />\n",
       "<line stroke=\"rgb(0,0,0)\" stroke-width=\"2.0\" x1=\"109.3\" x2=\"143.9\" y1=\"100.0\" y2=\"80.0\" />\n",
       "<line stroke=\"rgb(0,0,0)\" stroke-width=\"2.0\" x1=\"143.9\" x2=\"178.6\" y1=\"80.0\" y2=\"100.0\" />\n",
       "<line stroke=\"rgb(0,0,0)\" stroke-width=\"2.0\" x1=\"145.5\" x2=\"169.8\" y1=\"89.2\" y2=\"103.2\" />\n",
       "<line stroke=\"rgb(0,0,0)\" stroke-width=\"2.0\" x1=\"178.6\" x2=\"178.6\" y1=\"100.0\" y2=\"140.0\" />\n",
       "<line stroke=\"rgb(0,0,0)\" stroke-width=\"2.0\" x1=\"178.6\" x2=\"143.9\" y1=\"140.0\" y2=\"160.0\" />\n",
       "<line stroke=\"rgb(0,0,0)\" stroke-width=\"2.0\" x1=\"169.8\" x2=\"145.5\" y1=\"136.8\" y2=\"150.8\" />\n",
       "<line stroke=\"rgb(0,0,0)\" stroke-width=\"2.0\" x1=\"143.9\" x2=\"109.3\" y1=\"160.0\" y2=\"140.0\" />\n",
       "<text fill=\"rgb(255,12,12)\" font-size=\"16\" stroke=\"rgb(255,12,12)\" stroke-width=\"1\" x=\"380.410162\" y=\"268.000000\">O</text>\n",
       "<text fill=\"rgb(12,12,255)\" font-size=\"16\" stroke=\"rgb(12,12,255)\" stroke-width=\"1\" x=\"391.210162\" y=\"215.968000\">+</text>\n",
       "<text fill=\"rgb(12,12,255)\" font-size=\"16\" stroke=\"rgb(12,12,255)\" stroke-width=\"1\" x=\"380.410162\" y=\"228.000000\">N</text>\n",
       "<text fill=\"rgb(255,12,12)\" font-size=\"16\" stroke=\"rgb(255,12,12)\" stroke-width=\"1\" x=\"425.851178\" y=\"185.888000\">_</text>\n",
       "<text fill=\"rgb(255,12,12)\" font-size=\"16\" stroke=\"rgb(255,12,12)\" stroke-width=\"1\" x=\"415.051178\" y=\"208.000000\">O</text>\n",
       "<text fill=\"rgb(178,178,0)\" font-size=\"16\" stroke=\"rgb(178,178,0)\" stroke-width=\"1\" x=\"241.846097\" y=\"148.000000\">S</text>\n",
       "<text fill=\"rgb(178,178,0)\" font-size=\"16\" stroke=\"rgb(178,178,0)\" stroke-width=\"1\" x=\"207.205081\" y=\"168.000000\">S</text>\n",
       "<text fill=\"rgb(12,12,255)\" font-size=\"16\" stroke=\"rgb(12,12,255)\" stroke-width=\"1\" x=\"79.441016\" y=\"75.968000\">+</text>\n",
       "<text fill=\"rgb(12,12,255)\" font-size=\"16\" stroke=\"rgb(12,12,255)\" stroke-width=\"1\" x=\"68.641016\" y=\"88.000000\">N</text>\n",
       "<text fill=\"rgb(255,12,12)\" font-size=\"16\" stroke=\"rgb(255,12,12)\" stroke-width=\"1\" x=\"68.641016\" y=\"48.000000\">O</text>\n",
       "<text fill=\"rgb(255,12,12)\" font-size=\"16\" stroke=\"rgb(255,12,12)\" stroke-width=\"1\" x=\"44.800000\" y=\"85.888000\">_</text>\n",
       "<text fill=\"rgb(255,12,12)\" font-size=\"16\" stroke=\"rgb(255,12,12)\" stroke-width=\"1\" x=\"34.000000\" y=\"108.000000\">O</text>\n",
       "<text fill=\"rgb(12,12,255)\" font-size=\"16\" stroke=\"rgb(12,12,255)\" stroke-width=\"1\" x=\"218.005081\" y=\"75.968000\">+</text>\n",
       "<text fill=\"rgb(12,12,255)\" font-size=\"16\" stroke=\"rgb(12,12,255)\" stroke-width=\"1\" x=\"207.205081\" y=\"88.000000\">N</text>\n",
       "<text fill=\"rgb(255,12,12)\" font-size=\"16\" stroke=\"rgb(255,12,12)\" stroke-width=\"1\" x=\"241.846097\" y=\"108.000000\">O</text>\n",
       "<text fill=\"rgb(255,12,12)\" font-size=\"16\" stroke=\"rgb(255,12,12)\" stroke-width=\"1\" x=\"218.005081\" y=\"25.888000\">_</text>\n",
       "<text fill=\"rgb(255,12,12)\" font-size=\"16\" stroke=\"rgb(255,12,12)\" stroke-width=\"1\" x=\"207.205081\" y=\"48.000000\">O</text>\n",
       "<text fill=\"rgb(12,12,255)\" font-size=\"16\" stroke=\"rgb(12,12,255)\" stroke-width=\"1\" x=\"321.928129\" y=\"95.968000\">+</text>\n",
       "<text fill=\"rgb(12,12,255)\" font-size=\"16\" stroke=\"rgb(12,12,255)\" stroke-width=\"1\" x=\"311.128129\" y=\"108.000000\">N</text>\n",
       "<text fill=\"rgb(255,12,12)\" font-size=\"16\" stroke=\"rgb(255,12,12)\" stroke-width=\"1\" x=\"345.769145\" y=\"88.000000\">O</text>\n",
       "<text fill=\"rgb(255,12,12)\" font-size=\"16\" stroke=\"rgb(255,12,12)\" stroke-width=\"1\" x=\"287.287113\" y=\"65.888000\">_</text>\n",
       "<text fill=\"rgb(255,12,12)\" font-size=\"16\" stroke=\"rgb(255,12,12)\" stroke-width=\"1\" x=\"276.487113\" y=\"88.000000\">O</text>\n",
       "</svg>\n"
      ],
      "text/plain": [
       "<pybel.Molecule at 0x7f82aa0088d0>"
      ]
     },
     "execution_count": 3,
     "metadata": {},
     "output_type": "execute_result"
    }
   ],
   "source": [
    "mol_pybel = pybel.Molecule(mol_ob)\n",
    "mol_pybel"
   ]
  },
  {
   "cell_type": "markdown",
   "id": "inner-solution",
   "metadata": {},
   "source": [
    "For some reason some of the dependencies are not installed properly—pybel doesn seem to be able to display images properly. But it doesn't appear to be a big problem since we don't necessarily need that."
   ]
  },
  {
   "cell_type": "code",
   "execution_count": 4,
   "id": "significant-server",
   "metadata": {},
   "outputs": [
    {
     "ename": "ImportError",
     "evalue": "Tkinter or Python Imaging Library not found, but is required for image display. See installation instructions for more information.",
     "output_type": "error",
     "traceback": [
      "\u001b[0;31m---------------------------------------------------------------------------\u001b[0m",
      "\u001b[0;31mImportError\u001b[0m                               Traceback (most recent call last)",
      "\u001b[0;32m<ipython-input-4-0b2cf693e208>\u001b[0m in \u001b[0;36m<module>\u001b[0;34m\u001b[0m\n\u001b[0;32m----> 1\u001b[0;31m \u001b[0mmol_pybel\u001b[0m\u001b[0;34m.\u001b[0m\u001b[0mdraw\u001b[0m\u001b[0;34m(\u001b[0m\u001b[0;34m)\u001b[0m\u001b[0;34m\u001b[0m\u001b[0;34m\u001b[0m\u001b[0m\n\u001b[0m",
      "\u001b[0;32m/opt/anaconda3/envs/applied-ai/lib/python3.7/site-packages/pybel.py\u001b[0m in \u001b[0;36mdraw\u001b[0;34m(self, show, filename, update, usecoords)\u001b[0m\n\u001b[1;32m    666\u001b[0m             \u001b[0;32melse\u001b[0m\u001b[0;34m:\u001b[0m\u001b[0;34m\u001b[0m\u001b[0;34m\u001b[0m\u001b[0m\n\u001b[1;32m    667\u001b[0m                 \u001b[0;32mif\u001b[0m \u001b[0;32mnot\u001b[0m \u001b[0mtk\u001b[0m\u001b[0;34m:\u001b[0m\u001b[0;34m\u001b[0m\u001b[0;34m\u001b[0m\u001b[0m\n\u001b[0;32m--> 668\u001b[0;31m                     raise ImportError(\"Tkinter or Python Imaging Library not \"\n\u001b[0m\u001b[1;32m    669\u001b[0m                                       \u001b[0;34m\"found, but is required for image \"\u001b[0m\u001b[0;34m\u001b[0m\u001b[0;34m\u001b[0m\u001b[0m\n\u001b[1;32m    670\u001b[0m                                       \u001b[0;34m\"display. See installation instructions \"\u001b[0m\u001b[0;34m\u001b[0m\u001b[0;34m\u001b[0m\u001b[0m\n",
      "\u001b[0;31mImportError\u001b[0m: Tkinter or Python Imaging Library not found, but is required for image display. See installation instructions for more information."
     ]
    }
   ],
   "source": [
    "mol_pybel.draw()"
   ]
  },
  {
   "cell_type": "markdown",
   "id": "hindu-projector",
   "metadata": {},
   "source": [
    "We want to generate 3D coordinates, so look in the list of output forms availible to see which one is appropriate:"
   ]
  },
  {
   "cell_type": "code",
   "execution_count": 5,
   "id": "transparent-mills",
   "metadata": {},
   "outputs": [
    {
     "data": {
      "text/plain": [
       "{'acesin': 'ACES input format',\n",
       " 'adf': 'ADF cartesian input format',\n",
       " 'alc': 'Alchemy format',\n",
       " 'ascii': 'ASCII format',\n",
       " 'bgf': 'MSI BGF format',\n",
       " 'box': 'Dock 3.5 Box format',\n",
       " 'bs': 'Ball and Stick format',\n",
       " 'c3d1': 'Chem3D Cartesian 1 format',\n",
       " 'c3d2': 'Chem3D Cartesian 2 format',\n",
       " 'cac': 'CAChe MolStruct format',\n",
       " 'caccrt': 'Cacao Cartesian format',\n",
       " 'cache': 'CAChe MolStruct format',\n",
       " 'cacint': 'Cacao Internal format',\n",
       " 'can': 'Canonical SMILES format',\n",
       " 'cdjson': 'ChemDoodle JSON',\n",
       " 'cdxml': 'ChemDraw CDXML format',\n",
       " 'cht': 'Chemtool format',\n",
       " 'cif': 'Crystallographic Information File',\n",
       " 'ck': 'ChemKin format',\n",
       " 'cml': 'Chemical Markup Language',\n",
       " 'cmlr': 'CML Reaction format',\n",
       " 'com': 'Gaussian 98/03 Input',\n",
       " 'confabreport': 'Confab report format',\n",
       " 'CONFIG': 'DL-POLY CONFIG',\n",
       " 'CONTCAR': 'VASP format',\n",
       " 'CONTFF': 'MDFF format',\n",
       " 'copy': 'Copy raw text',\n",
       " 'crk2d': 'Chemical Resource Kit diagram(2D)',\n",
       " 'crk3d': 'Chemical Resource Kit 3D format',\n",
       " 'csr': 'Accelrys/MSI Quanta CSR format',\n",
       " 'cssr': 'CSD CSSR format',\n",
       " 'ct': 'ChemDraw Connection Table format',\n",
       " 'cub': 'Gaussian cube format',\n",
       " 'cube': 'Gaussian cube format',\n",
       " 'dalmol': 'DALTON input format',\n",
       " 'dmol': 'DMol3 coordinates format',\n",
       " 'dx': 'OpenDX cube format for APBS',\n",
       " 'ent': 'Protein Data Bank format',\n",
       " 'exyz': 'Extended XYZ cartesian coordinates format',\n",
       " 'fa': 'FASTA format',\n",
       " 'fasta': 'FASTA format',\n",
       " 'feat': 'Feature format',\n",
       " 'fh': 'Fenske-Hall Z-Matrix format',\n",
       " 'fhiaims': 'FHIaims XYZ format',\n",
       " 'fix': 'SMILES FIX format',\n",
       " 'fps': 'FPS text fingerprint format (Dalke)',\n",
       " 'fpt': 'Fingerprint format',\n",
       " 'fract': 'Free Form Fractional format',\n",
       " 'fs': 'Fastsearch format',\n",
       " 'fsa': 'FASTA format',\n",
       " 'gamin': 'GAMESS Input',\n",
       " 'gau': 'Gaussian 98/03 Input',\n",
       " 'gjc': 'Gaussian 98/03 Input',\n",
       " 'gjf': 'Gaussian 98/03 Input',\n",
       " 'gpr': 'Ghemical format',\n",
       " 'gr96': 'GROMOS96 format',\n",
       " 'gro': 'GRO format',\n",
       " 'gukin': 'GAMESS-UK Input',\n",
       " 'gukout': 'GAMESS-UK Output',\n",
       " 'gzmat': 'Gaussian Z-Matrix Input',\n",
       " 'hin': 'HyperChem HIN format',\n",
       " 'inchi': 'InChI format',\n",
       " 'inchikey': 'InChIKey',\n",
       " 'inp': 'GAMESS Input',\n",
       " 'jin': 'Jaguar input format',\n",
       " 'k': 'Compare molecules using InChI',\n",
       " 'lmpdat': 'The LAMMPS data format',\n",
       " 'lpmd': 'LPMD format',\n",
       " 'mcdl': 'MCDL format',\n",
       " 'mcif': 'Macromolecular Crystallographic Info',\n",
       " 'MDFF': 'MDFF format',\n",
       " 'mdl': 'MDL MOL format',\n",
       " 'ml2': 'Sybyl Mol2 format',\n",
       " 'mmcif': 'Macromolecular Crystallographic Info',\n",
       " 'mmd': 'MacroModel format',\n",
       " 'mmod': 'MacroModel format',\n",
       " 'mna': 'Multilevel Neighborhoods of Atoms (MNA)',\n",
       " 'mol': 'MDL MOL format',\n",
       " 'mol2': 'Sybyl Mol2 format',\n",
       " 'mold': 'Molden format',\n",
       " 'molden': 'Molden format',\n",
       " 'molf': 'Molden format',\n",
       " 'molreport': 'Open Babel molecule report',\n",
       " 'mop': 'MOPAC Cartesian format',\n",
       " 'mopcrt': 'MOPAC Cartesian format',\n",
       " 'mopin': 'MOPAC Internal',\n",
       " 'mp': 'Molpro input format',\n",
       " 'mpc': 'MOPAC Cartesian format',\n",
       " 'mpd': 'MolPrint2D format',\n",
       " 'mpqcin': 'MPQC simplified input format',\n",
       " 'mrv': 'Chemical Markup Language',\n",
       " 'msms': \"M.F. Sanner's MSMS input format\",\n",
       " 'nul': 'Outputs nothing',\n",
       " 'nw': 'NWChem input format',\n",
       " 'orcainp': 'ORCA input format',\n",
       " 'outmol': 'DMol3 coordinates format',\n",
       " 'paint': 'Painter format',\n",
       " 'pcjson': 'PubChem JSON',\n",
       " 'pcm': 'PCModel Format',\n",
       " 'pdb': 'Protein Data Bank format',\n",
       " 'pdbqt': 'AutoDock PDBQT format',\n",
       " 'png': 'PNG 2D depiction',\n",
       " 'pointcloud': 'Point cloud on VDW surface',\n",
       " 'POSCAR': 'VASP format',\n",
       " 'POSFF': 'MDFF format',\n",
       " 'pov': 'POV-Ray input format',\n",
       " 'pqr': 'PQR format',\n",
       " 'pqs': 'Parallel Quantum Solutions format',\n",
       " 'qcin': 'Q-Chem input format',\n",
       " 'report': 'Open Babel report format',\n",
       " 'rsmi': 'Reaction SMILES format',\n",
       " 'rxn': 'MDL RXN format',\n",
       " 'sd': 'MDL MOL format',\n",
       " 'sdf': 'MDL MOL format',\n",
       " 'smi': 'SMILES format',\n",
       " 'smiles': 'SMILES format',\n",
       " 'stl': 'STL 3D-printing format',\n",
       " 'svg': 'SVG 2D depiction',\n",
       " 'sy2': 'Sybyl Mol2 format',\n",
       " 'tdd': 'Thermo format',\n",
       " 'text': 'Read and write raw text',\n",
       " 'therm': 'Thermo format',\n",
       " 'tmol': 'TurboMole Coordinate format',\n",
       " 'txt': 'Title format',\n",
       " 'txyz': 'Tinker XYZ format',\n",
       " 'unixyz': 'UniChem XYZ format',\n",
       " 'VASP': 'VASP format',\n",
       " 'vmol': 'ViewMol format',\n",
       " 'xed': 'XED format',\n",
       " 'xyz': 'XYZ cartesian coordinates format',\n",
       " 'yob': 'YASARA.org YOB format',\n",
       " 'zin': 'ZINDO input format'}"
      ]
     },
     "execution_count": 5,
     "metadata": {},
     "output_type": "execute_result"
    }
   ],
   "source": [
    "pybel.outformats"
   ]
  },
  {
   "cell_type": "markdown",
   "id": "annoying-drive",
   "metadata": {},
   "source": [
    "We want the `'xyz': 'XYZ cartesian coordinates format'` option. So take the pybel molecule, tell pybel to make it 3D, and then print out the cooredinates whih are stored in the pybel molecule object:"
   ]
  },
  {
   "cell_type": "code",
   "execution_count": 6,
   "id": "historical-pipeline",
   "metadata": {},
   "outputs": [
    {
     "name": "stdout",
     "output_type": "stream",
     "text": [
      "32\n",
      "\n",
      "O          1.03547        0.03324       -0.05087\n",
      "N          2.27364       -0.00256       -0.03902\n",
      "O          2.97516       -0.86912       -0.57295\n",
      "C          2.96197        1.09428        0.63110\n",
      "C          2.45826        2.37923        0.46453\n",
      "C          3.05611        3.43684        1.14783\n",
      "C          4.21708        3.26666        1.93210\n",
      "S          4.60090        4.64022        3.06151\n",
      "S          4.27232        6.39631        2.01933\n",
      "C          5.31621        7.69819        2.70824\n",
      "C          4.71842        8.99085        2.63378\n",
      "C          5.43259       10.17014        2.91320\n",
      "C          6.72821       10.07510        3.40858\n",
      "N          7.54684       11.27911        3.61544\n",
      "O          7.04416       12.37266        3.32175\n",
      "O          8.69807       11.12264        4.04097\n",
      "C          7.29033        8.82057        3.64220\n",
      "C          6.62974        7.64281        3.21395\n",
      "N          7.48967        6.44928        3.20896\n",
      "O          8.46584        6.45244        3.96194\n",
      "O          7.26641        5.56535        2.36824\n",
      "C          4.77534        1.96121        1.99908\n",
      "N          6.07385        1.66820        2.64565\n",
      "O          6.77407        2.60365        3.04157\n",
      "O          6.41438        0.47770        2.71889\n",
      "C          4.09759        0.86011        1.41232\n",
      "H          1.57289        2.56403       -0.14122\n",
      "H          2.54591        4.39587        1.10549\n",
      "H          3.67979        9.11083        2.31462\n",
      "H          4.97240       11.14129        2.72762\n",
      "H          8.27618        8.75702        4.10103\n",
      "H          4.42835       -0.16550        1.58828\n",
      "\n"
     ]
    }
   ],
   "source": [
    "mol_pybel.make3D()\n",
    "coord = mol_pybel.write(format='xyz')\n",
    "print(coord)"
   ]
  },
  {
   "cell_type": "markdown",
   "id": "applicable-samuel",
   "metadata": {},
   "source": [
    "Using applied-ai-for-materials/optimal-experimental-design/assignment/confutils.py as a template, convert these coordinates into ASE objects to get them ready for shnet:  \n",
    "(Note some of this code is dupplicated in 4Dor2D.ipynb)"
   ]
  },
  {
   "cell_type": "code",
   "execution_count": 7,
   "id": "chief-president",
   "metadata": {},
   "outputs": [],
   "source": [
    "# Convert it to ASE\n",
    "atoms = next(read_xyz(StringIO(mol_pybel.write('xyz')), slice(None)))\n",
    "\n",
    "# Get the bonding graph\n",
    "g = nx.Graph()\n",
    "g.add_nodes_from(range(len(mol_pybel.atoms)))\n",
    "for bond in ob.OBMolBondIter(mol_pybel.OBMol):\n",
    "    g.add_edge(bond.GetBeginAtomIdx() - 1, bond.GetEndAtomIdx() - 1, data={\"rotor\": bond.IsRotor()})"
   ]
  },
  {
   "cell_type": "markdown",
   "id": "tamil-heading",
   "metadata": {},
   "source": [
    "Visualize the results:"
   ]
  },
  {
   "cell_type": "code",
   "execution_count": 8,
   "id": "formal-moral",
   "metadata": {},
   "outputs": [
    {
     "name": "stdout",
     "output_type": "stream",
     "text": [
      "Atoms(symbols='ONOC4S2C4NO2C2NO2CNO2CH6', pbc=False)\n",
      "The generated graph:\n"
     ]
    },
    {
     "data": {
      "image/png": "[encoded data removed]",
      "text/plain": [
       "<Figure size 432x288 with 1 Axes>"
      ]
     },
     "metadata": {},
     "output_type": "display_data"
    }
   ],
   "source": [
    "print(atoms)\n",
    "print('The generated graph:')\n",
    "nx.draw(g)"
   ]
  },
  {
   "cell_type": "markdown",
   "id": "simplified-nebraska",
   "metadata": {},
   "source": [
    "Combine all of the above into a function we can use in a pipeline:"
   ]
  },
  {
   "cell_type": "code",
   "execution_count": 9,
   "id": "noted-punishment",
   "metadata": {},
   "outputs": [],
   "source": [
    "def gen_3D_strings(data: pd.DataFrame, smi_col_name: str) -> pd.DataFrame:\n",
    "    '''Given a pd.DataFramw with a column of similes, creates xyz column with strings\n",
    "    of the 3D coordinates generated from pybel.'''\n",
    "    \n",
    "    def get_coords(smi: str) -> str:\n",
    "        '''Function to applied element wise to pd.Series of smiles strings.'''\n",
    "        \n",
    "        # Set the correct input type:\n",
    "        obConversion = ob.OBConversion()\n",
    "        obConversion.SetInAndOutFormats(\"smi\", \"smi\")\n",
    "\n",
    "        # Make a molecule object using the openbabel C++ wrapper:\n",
    "        mol_ob = ob.OBMol()\n",
    "\n",
    "        # Note that this function stores the molucule information in the mol_ob object: \n",
    "        obConversion.ReadString(mol_ob, smi)\n",
    "        \n",
    "        # Pass this molecule into pybel to get coordinates:\n",
    "        mol_pybel = pybel.Molecule(mol_ob)\n",
    "        mol_pybel.make3D()\n",
    "        coord = mol_pybel.write(format='xyz')\n",
    "        \n",
    "        return coord\n",
    "        \n",
    "    data['xyz'] = data[smi_col_name].map(get_coords)\n",
    "    \n",
    "    return data"
   ]
  },
  {
   "cell_type": "markdown",
   "id": "rising-sherman",
   "metadata": {},
   "source": [
    "Test the function on a small sample:"
   ]
  },
  {
   "cell_type": "code",
   "execution_count": 11,
   "id": "quantitative-deadline",
   "metadata": {},
   "outputs": [
    {
     "data": {
      "text/html": [
       "<div>\n",
       "<style scoped>\n",
       "    .dataframe tbody tr th:only-of-type {\n",
       "        vertical-align: middle;\n",
       "    }\n",
       "\n",
       "    .dataframe tbody tr th {\n",
       "        vertical-align: top;\n",
       "    }\n",
       "\n",
       "    .dataframe thead th {\n",
       "        text-align: right;\n",
       "    }\n",
       "</style>\n",
       "<table border=\"1\" class=\"dataframe\">\n",
       "  <thead>\n",
       "    <tr style=\"text-align: right;\">\n",
       "      <th></th>\n",
       "      <th>smiles</th>\n",
       "      <th>activity</th>\n",
       "      <th>HIV_active</th>\n",
       "      <th>xyz</th>\n",
       "    </tr>\n",
       "  </thead>\n",
       "  <tbody>\n",
       "    <tr>\n",
       "      <th>40192</th>\n",
       "      <td>COc1cc(C=C2C(=O)N(c3cccc(NC(C)=O)c3)C(c3ccccc3...</td>\n",
       "      <td>CI</td>\n",
       "      <td>0</td>\n",
       "      <td>63\\n\\nC          0.94993       -0.03266       ...</td>\n",
       "    </tr>\n",
       "    <tr>\n",
       "      <th>12535</th>\n",
       "      <td>BrN1C2c3ccccc3C1c1ccccc12</td>\n",
       "      <td>CI</td>\n",
       "      <td>0</td>\n",
       "      <td>26\\n\\nBr         1.17919        0.05631       ...</td>\n",
       "    </tr>\n",
       "    <tr>\n",
       "      <th>11488</th>\n",
       "      <td>COc1ccc(C=C(NC(=O)c2ccccc2)c2nc3ccccc3[nH]2)cc1OC</td>\n",
       "      <td>CI</td>\n",
       "      <td>0</td>\n",
       "      <td>51\\n\\nC          0.97399        0.27942       ...</td>\n",
       "    </tr>\n",
       "    <tr>\n",
       "      <th>1181</th>\n",
       "      <td>OCC(O)C(O)C(O)C(O)c1nc2ccccc2s1</td>\n",
       "      <td>CI</td>\n",
       "      <td>0</td>\n",
       "      <td>34\\n\\nO          0.98453        0.08968       ...</td>\n",
       "    </tr>\n",
       "    <tr>\n",
       "      <th>1357</th>\n",
       "      <td>Nc1cccc2c1C(=O)c1cccc(NC(=O)c3ccc4c5c(nsc35)-c...</td>\n",
       "      <td>CI</td>\n",
       "      <td>0</td>\n",
       "      <td>52\\n\\nN          0.92663        0.25144       ...</td>\n",
       "    </tr>\n",
       "    <tr>\n",
       "      <th>11135</th>\n",
       "      <td>CN=C(N=c1ssc(=NC)n1C)N(C)C.[O-][Cl+3]([O-])([O...</td>\n",
       "      <td>CM</td>\n",
       "      <td>1</td>\n",
       "      <td>36\\n\\nC          0.84103        0.11340       ...</td>\n",
       "    </tr>\n",
       "    <tr>\n",
       "      <th>8045</th>\n",
       "      <td>Cc1cc(S)c2cc3c(cc2n1)OCO3</td>\n",
       "      <td>CI</td>\n",
       "      <td>0</td>\n",
       "      <td>24\\n\\nC          1.11211        0.05301       ...</td>\n",
       "    </tr>\n",
       "    <tr>\n",
       "      <th>29992</th>\n",
       "      <td>O=S(=O)(NN=C1CC2CCC1C2)c1ccccc1</td>\n",
       "      <td>CI</td>\n",
       "      <td>0</td>\n",
       "      <td>34\\n\\nO          1.05212        0.00352       ...</td>\n",
       "    </tr>\n",
       "    <tr>\n",
       "      <th>32800</th>\n",
       "      <td>COc1ccc(C2CC(=O)CC(c3ccc(OC)cc3)C23C(=O)c2cccc...</td>\n",
       "      <td>CI</td>\n",
       "      <td>0</td>\n",
       "      <td>57\\n\\nC          1.07283       -0.06197       ...</td>\n",
       "    </tr>\n",
       "    <tr>\n",
       "      <th>19336</th>\n",
       "      <td>Cc1occc1C(=S)Nc1ccc(Cl)c(C(=O)OC(C)(C)C)c1</td>\n",
       "      <td>CA</td>\n",
       "      <td>1</td>\n",
       "      <td>41\\n\\nC          0.89588        0.18894       ...</td>\n",
       "    </tr>\n",
       "  </tbody>\n",
       "</table>\n",
       "</div>"
      ],
      "text/plain": [
       "                                                  smiles activity  HIV_active  \\\n",
       "40192  COc1cc(C=C2C(=O)N(c3cccc(NC(C)=O)c3)C(c3ccccc3...       CI           0   \n",
       "12535                          BrN1C2c3ccccc3C1c1ccccc12       CI           0   \n",
       "11488  COc1ccc(C=C(NC(=O)c2ccccc2)c2nc3ccccc3[nH]2)cc1OC       CI           0   \n",
       "1181                     OCC(O)C(O)C(O)C(O)c1nc2ccccc2s1       CI           0   \n",
       "1357   Nc1cccc2c1C(=O)c1cccc(NC(=O)c3ccc4c5c(nsc35)-c...       CI           0   \n",
       "11135  CN=C(N=c1ssc(=NC)n1C)N(C)C.[O-][Cl+3]([O-])([O...       CM           1   \n",
       "8045                           Cc1cc(S)c2cc3c(cc2n1)OCO3       CI           0   \n",
       "29992                    O=S(=O)(NN=C1CC2CCC1C2)c1ccccc1       CI           0   \n",
       "32800  COc1ccc(C2CC(=O)CC(c3ccc(OC)cc3)C23C(=O)c2cccc...       CI           0   \n",
       "19336         Cc1occc1C(=S)Nc1ccc(Cl)c(C(=O)OC(C)(C)C)c1       CA           1   \n",
       "\n",
       "                                                     xyz  \n",
       "40192  63\\n\\nC          0.94993       -0.03266       ...  \n",
       "12535  26\\n\\nBr         1.17919        0.05631       ...  \n",
       "11488  51\\n\\nC          0.97399        0.27942       ...  \n",
       "1181   34\\n\\nO          0.98453        0.08968       ...  \n",
       "1357   52\\n\\nN          0.92663        0.25144       ...  \n",
       "11135  36\\n\\nC          0.84103        0.11340       ...  \n",
       "8045   24\\n\\nC          1.11211        0.05301       ...  \n",
       "29992  34\\n\\nO          1.05212        0.00352       ...  \n",
       "32800  57\\n\\nC          1.07283       -0.06197       ...  \n",
       "19336  41\\n\\nC          0.89588        0.18894       ...  "
      ]
     },
     "execution_count": 11,
     "metadata": {},
     "output_type": "execute_result"
    }
   ],
   "source": [
    "data_samp = pd.read_csv('./data/HIV.csv').sample(10)\n",
    "data_samp = gen_3D_strings(data_samp, 'smiles')\n",
    "data_samp"
   ]
  },
  {
   "cell_type": "markdown",
   "id": "prescribed-outreach",
   "metadata": {},
   "source": [
    "Everything looks good so now processing the whole HIV dataset:"
   ]
  },
  {
   "cell_type": "code",
   "execution_count": 12,
   "id": "right-malawi",
   "metadata": {},
   "outputs": [],
   "source": [
    "data = pd.read_csv('./data/HIV.csv')\n",
    "data = gen_3D_strings(data, 'smiles')"
   ]
  },
  {
   "cell_type": "code",
   "execution_count": 13,
   "id": "united-eugene",
   "metadata": {},
   "outputs": [
    {
     "data": {
      "text/html": [
       "<div>\n",
       "<style scoped>\n",
       "    .dataframe tbody tr th:only-of-type {\n",
       "        vertical-align: middle;\n",
       "    }\n",
       "\n",
       "    .dataframe tbody tr th {\n",
       "        vertical-align: top;\n",
       "    }\n",
       "\n",
       "    .dataframe thead th {\n",
       "        text-align: right;\n",
       "    }\n",
       "</style>\n",
       "<table border=\"1\" class=\"dataframe\">\n",
       "  <thead>\n",
       "    <tr style=\"text-align: right;\">\n",
       "      <th></th>\n",
       "      <th>smiles</th>\n",
       "      <th>activity</th>\n",
       "      <th>HIV_active</th>\n",
       "      <th>xyz</th>\n",
       "    </tr>\n",
       "  </thead>\n",
       "  <tbody>\n",
       "    <tr>\n",
       "      <th>0</th>\n",
       "      <td>CCC1=[O+][Cu-3]2([O+]=C(CC)C1)[O+]=C(CC)CC(CC)...</td>\n",
       "      <td>CI</td>\n",
       "      <td>0</td>\n",
       "      <td>43\\n\\nC          0.93683       -0.05605       ...</td>\n",
       "    </tr>\n",
       "    <tr>\n",
       "      <th>1</th>\n",
       "      <td>C(=Cc1ccccc1)C1=[O+][Cu-3]2([O+]=C(C=Cc3ccccc3...</td>\n",
       "      <td>CI</td>\n",
       "      <td>0</td>\n",
       "      <td>67\\n\\nC          1.07064       -0.06481       ...</td>\n",
       "    </tr>\n",
       "    <tr>\n",
       "      <th>2</th>\n",
       "      <td>CC(=O)N1c2ccccc2Sc2c1ccc1ccccc21</td>\n",
       "      <td>CI</td>\n",
       "      <td>0</td>\n",
       "      <td>34\\n\\nC          1.07053        0.16374       ...</td>\n",
       "    </tr>\n",
       "    <tr>\n",
       "      <th>3</th>\n",
       "      <td>Nc1ccc(C=Cc2ccc(N)cc2S(=O)(=O)O)c(S(=O)(=O)O)c1</td>\n",
       "      <td>CI</td>\n",
       "      <td>0</td>\n",
       "      <td>38\\n\\nN          1.04278        0.02315       ...</td>\n",
       "    </tr>\n",
       "    <tr>\n",
       "      <th>4</th>\n",
       "      <td>O=S(=O)(O)CCS(=O)(=O)O</td>\n",
       "      <td>CI</td>\n",
       "      <td>0</td>\n",
       "      <td>16\\n\\nO          1.16595        0.12016       ...</td>\n",
       "    </tr>\n",
       "    <tr>\n",
       "      <th>...</th>\n",
       "      <td>...</td>\n",
       "      <td>...</td>\n",
       "      <td>...</td>\n",
       "      <td>...</td>\n",
       "    </tr>\n",
       "    <tr>\n",
       "      <th>41122</th>\n",
       "      <td>CCC1CCC2c3c([nH]c4ccc(C)cc34)C3C(=O)N(N(C)C)C(...</td>\n",
       "      <td>CI</td>\n",
       "      <td>0</td>\n",
       "      <td>57\\n\\nC          0.95955        0.06333       ...</td>\n",
       "    </tr>\n",
       "    <tr>\n",
       "      <th>41123</th>\n",
       "      <td>Cc1ccc2[nH]c3c(c2c1)C1CCC(C(C)(C)C)CC1C1C(=O)N...</td>\n",
       "      <td>CI</td>\n",
       "      <td>0</td>\n",
       "      <td>68\\n\\nC          0.96231       -0.06258       ...</td>\n",
       "    </tr>\n",
       "    <tr>\n",
       "      <th>41124</th>\n",
       "      <td>Cc1ccc(N2C(=O)C3c4[nH]c5ccccc5c4C4CCC(C(C)(C)C...</td>\n",
       "      <td>CI</td>\n",
       "      <td>0</td>\n",
       "      <td>65\\n\\nC          1.01685       -0.00827       ...</td>\n",
       "    </tr>\n",
       "    <tr>\n",
       "      <th>41125</th>\n",
       "      <td>Cc1cccc(N2C(=O)C3c4[nH]c5ccccc5c4C4CCC(C(C)(C)...</td>\n",
       "      <td>CI</td>\n",
       "      <td>0</td>\n",
       "      <td>65\\n\\nC          1.07422       -0.09504       ...</td>\n",
       "    </tr>\n",
       "    <tr>\n",
       "      <th>41126</th>\n",
       "      <td>CCCCCC=C(c1cc(Cl)c(OC)c(-c2nc(C)no2)c1)c1cc(Cl...</td>\n",
       "      <td>CI</td>\n",
       "      <td>0</td>\n",
       "      <td>65\\n\\nC          1.03030       -0.04870       ...</td>\n",
       "    </tr>\n",
       "  </tbody>\n",
       "</table>\n",
       "<p>41127 rows × 4 columns</p>\n",
       "</div>"
      ],
      "text/plain": [
       "                                                  smiles activity  HIV_active  \\\n",
       "0      CCC1=[O+][Cu-3]2([O+]=C(CC)C1)[O+]=C(CC)CC(CC)...       CI           0   \n",
       "1      C(=Cc1ccccc1)C1=[O+][Cu-3]2([O+]=C(C=Cc3ccccc3...       CI           0   \n",
       "2                       CC(=O)N1c2ccccc2Sc2c1ccc1ccccc21       CI           0   \n",
       "3        Nc1ccc(C=Cc2ccc(N)cc2S(=O)(=O)O)c(S(=O)(=O)O)c1       CI           0   \n",
       "4                                 O=S(=O)(O)CCS(=O)(=O)O       CI           0   \n",
       "...                                                  ...      ...         ...   \n",
       "41122  CCC1CCC2c3c([nH]c4ccc(C)cc34)C3C(=O)N(N(C)C)C(...       CI           0   \n",
       "41123  Cc1ccc2[nH]c3c(c2c1)C1CCC(C(C)(C)C)CC1C1C(=O)N...       CI           0   \n",
       "41124  Cc1ccc(N2C(=O)C3c4[nH]c5ccccc5c4C4CCC(C(C)(C)C...       CI           0   \n",
       "41125  Cc1cccc(N2C(=O)C3c4[nH]c5ccccc5c4C4CCC(C(C)(C)...       CI           0   \n",
       "41126  CCCCCC=C(c1cc(Cl)c(OC)c(-c2nc(C)no2)c1)c1cc(Cl...       CI           0   \n",
       "\n",
       "                                                     xyz  \n",
       "0      43\\n\\nC          0.93683       -0.05605       ...  \n",
       "1      67\\n\\nC          1.07064       -0.06481       ...  \n",
       "2      34\\n\\nC          1.07053        0.16374       ...  \n",
       "3      38\\n\\nN          1.04278        0.02315       ...  \n",
       "4      16\\n\\nO          1.16595        0.12016       ...  \n",
       "...                                                  ...  \n",
       "41122  57\\n\\nC          0.95955        0.06333       ...  \n",
       "41123  68\\n\\nC          0.96231       -0.06258       ...  \n",
       "41124  65\\n\\nC          1.01685       -0.00827       ...  \n",
       "41125  65\\n\\nC          1.07422       -0.09504       ...  \n",
       "41126  65\\n\\nC          1.03030       -0.04870       ...  \n",
       "\n",
       "[41127 rows x 4 columns]"
      ]
     },
     "execution_count": 13,
     "metadata": {},
     "output_type": "execute_result"
    }
   ],
   "source": [
    "data"
   ]
  },
  {
   "cell_type": "markdown",
   "id": "similar-wrestling",
   "metadata": {},
   "source": [
    "Note that there were a few warnings in the terminal after running the whole thing. It appears a few molcules had some exotic geometry:\n",
    "\n",
    "    ==============================  \n",
    "    *** Open Babel Warning  in ParseComplex  \n",
    "      Illegal aromatic element te  \n",
    "    ==============================\n",
    "\n",
    "But doesn't seem to have cause any problems."
   ]
  },
  {
   "cell_type": "markdown",
   "id": "elder-organization",
   "metadata": {},
   "source": [
    "Save the results to a new csv:"
   ]
  },
  {
   "cell_type": "code",
   "execution_count": 14,
   "id": "apparent-language",
   "metadata": {},
   "outputs": [],
   "source": [
    "data.to_csv('./data/HIV_with_3D.csv')"
   ]
  },
  {
   "cell_type": "code",
   "execution_count": null,
   "id": "fewer-mandate",
   "metadata": {},
   "outputs": [],
   "source": []
  },
  {
   "cell_type": "code",
   "execution_count": null,
   "id": "lesser-powder",
   "metadata": {},
   "outputs": [],
   "source": []
  },
  {
   "cell_type": "markdown",
   "id": "incident-advertising",
   "metadata": {},
   "source": [
    "### Aside:\n",
    "\n",
    "_Dead end code that was abandonded:_  \n",
    "\n",
    "\n",
    "Tried working directly with the `openbabel` module, and ran into issues with C++ pointers:  \n",
    "(The pyble code above is much better)"
   ]
  },
  {
   "cell_type": "code",
   "execution_count": 15,
   "id": "serial-causing",
   "metadata": {},
   "outputs": [
    {
     "data": {
      "text/plain": [
       "True"
      ]
     },
     "execution_count": 15,
     "metadata": {},
     "output_type": "execute_result"
    }
   ],
   "source": [
    "test_smiles = \"O=[N+]([O-])c1ccc(SSc2ccc([N+](=O)[O-])cc2[N+](=O)[O-])c([N+](=O)[O-])c1\"\n",
    "\n",
    "mol_ob = ob.OBMol()\n",
    "\n",
    "obConversion.ReadString(mol_ob, test_smiles)"
   ]
  },
  {
   "cell_type": "code",
   "execution_count": 16,
   "id": "refined-mercy",
   "metadata": {},
   "outputs": [
    {
     "data": {
      "text/plain": [
       "True"
      ]
     },
     "execution_count": 16,
     "metadata": {},
     "output_type": "execute_result"
    }
   ],
   "source": [
    "builder = ob.OBBuilder()\n",
    "builder.Build(mol_ob)"
   ]
  },
  {
   "cell_type": "code",
   "execution_count": 17,
   "id": "incorporated-cloud",
   "metadata": {},
   "outputs": [
    {
     "data": {
      "text/plain": [
       "True"
      ]
     },
     "execution_count": 17,
     "metadata": {},
     "output_type": "execute_result"
    }
   ],
   "source": [
    "mol_ob.Has3D()"
   ]
  },
  {
   "cell_type": "code",
   "execution_count": 18,
   "id": "extreme-christianity",
   "metadata": {},
   "outputs": [
    {
     "data": {
      "text/plain": [
       "<Swig Object of type 'double *' at 0x7f8258020930>"
      ]
     },
     "execution_count": 18,
     "metadata": {},
     "output_type": "execute_result"
    }
   ],
   "source": [
    "mol_ob.GetCoordinates()"
   ]
  },
  {
   "cell_type": "markdown",
   "id": "biological-reward",
   "metadata": {},
   "source": [
    "This appears to be a C++ pointer object, and we don't know how to handle that in python."
   ]
  }
 ],
 "metadata": {
  "kernelspec": {
   "display_name": "Python 3",
   "language": "python",
   "name": "python3"
  },
  "language_info": {
   "codemirror_mode": {
    "name": "ipython",
    "version": 3
   },
   "file_extension": ".py",
   "mimetype": "text/x-python",
   "name": "python",
   "nbconvert_exporter": "python",
   "pygments_lexer": "ipython3",
   "version": "3.7.10"
  }
 },
 "nbformat": 4,
 "nbformat_minor": 5
}
