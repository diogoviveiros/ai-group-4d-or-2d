{
 "cells": [
  {
   "cell_type": "code",
   "execution_count": 13,
   "id": "exterior-audience",
   "metadata": {},
   "outputs": [],
   "source": [
    "import openbabel as ob\n",
    "import pybel"
   ]
  },
  {
   "cell_type": "markdown",
   "id": "sacred-philadelphia",
   "metadata": {},
   "source": [
    "Make the molecule object:"
   ]
  },
  {
   "cell_type": "code",
   "execution_count": 14,
   "id": "postal-proposal",
   "metadata": {},
   "outputs": [
    {
     "data": {
      "text/plain": [
       "True"
      ]
     },
     "execution_count": 14,
     "metadata": {},
     "output_type": "execute_result"
    }
   ],
   "source": [
    "test_smiles = \"O=[N+]([O-])c1ccc(SSc2ccc([N+](=O)[O-])cc2[N+](=O)[O-])c([N+](=O)[O-])c1\"\n",
    "\n",
    "obConversion = ob.OBConversion()\n",
    "obConversion.SetInAndOutFormats(\"smi\", \"mdl\")\n",
    "\n",
    "mol_ob = ob.OBMol()\n",
    "obConversion.ReadString(mol_ob, test_smiles)"
   ]
  },
  {
   "cell_type": "code",
   "execution_count": 19,
   "id": "dated-metro",
   "metadata": {},
   "outputs": [
    {
     "ename": "TypeError",
     "evalue": "OBMol_AddConformer expected 2 arguments, got 1",
     "output_type": "error",
     "traceback": [
      "\u001b[0;31m---------------------------------------------------------------------------\u001b[0m",
      "\u001b[0;31mTypeError\u001b[0m                                 Traceback (most recent call last)",
      "\u001b[0;32m<ipython-input-19-27ea47417064>\u001b[0m in \u001b[0;36m<module>\u001b[0;34m\u001b[0m\n\u001b[0;32m----> 1\u001b[0;31m \u001b[0mmol_ob\u001b[0m\u001b[0;34m.\u001b[0m\u001b[0mAddConformer\u001b[0m\u001b[0;34m(\u001b[0m\u001b[0;34m)\u001b[0m\u001b[0;34m\u001b[0m\u001b[0;34m\u001b[0m\u001b[0m\n\u001b[0m",
      "\u001b[0;31mTypeError\u001b[0m: OBMol_AddConformer expected 2 arguments, got 1"
     ]
    }
   ],
   "source": [
    "mol_ob."
   ]
  },
  {
   "cell_type": "code",
   "execution_count": 15,
   "id": "opposed-concentrate",
   "metadata": {},
   "outputs": [
    {
     "data": {
      "image/svg+xml": [
       "<svg xmlns=\"http://www.w3.org/2000/svg\" font-family=\"sans-serif\" height=\"100\" stroke=\"rgb(0,0,0)\" stroke-linecap=\"round\" stroke-width=\"2\" viewBox=\"0 0 461.051 300\" width=\"100\" x=\"0\" y=\"0\">\n",
       "<line stroke=\"rgb(0,0,0)\" stroke-width=\"2.0\" x1=\"383.4\" x2=\"383.4\" y1=\"247.0\" y2=\"233.0\" />\n",
       "<line stroke=\"rgb(0,0,0)\" stroke-width=\"2.0\" x1=\"389.4\" x2=\"389.4\" y1=\"247.0\" y2=\"233.0\" />\n",
       "<line stroke=\"rgb(0,0,0)\" stroke-width=\"2.0\" x1=\"397.7\" x2=\"409.8\" y1=\"213.5\" y2=\"206.5\" />\n",
       "<line stroke=\"rgb(0,0,0)\" stroke-width=\"2.0\" x1=\"375.2\" x2=\"351.8\" y1=\"213.5\" y2=\"200.0\" />\n",
       "<line stroke=\"rgb(0,0,0)\" stroke-width=\"2.0\" x1=\"282.5\" x2=\"259.1\" y1=\"160.0\" y2=\"146.5\" />\n",
       "<line stroke=\"rgb(0,0,0)\" stroke-width=\"2.0\" x1=\"236.6\" x2=\"224.5\" y1=\"146.5\" y2=\"153.5\" />\n",
       "<line stroke=\"rgb(0,0,0)\" stroke-width=\"2.0\" x1=\"201.9\" x2=\"178.6\" y1=\"153.5\" y2=\"140.0\" />\n",
       "<line stroke=\"rgb(0,0,0)\" stroke-width=\"2.0\" x1=\"109.3\" x2=\"85.9\" y1=\"100.0\" y2=\"86.5\" />\n",
       "<line stroke=\"rgb(0,0,0)\" stroke-width=\"2.0\" x1=\"71.6\" x2=\"71.6\" y1=\"67.0\" y2=\"53.0\" />\n",
       "<line stroke=\"rgb(0,0,0)\" stroke-width=\"2.0\" x1=\"77.6\" x2=\"77.6\" y1=\"67.0\" y2=\"53.0\" />\n",
       "<line stroke=\"rgb(0,0,0)\" stroke-width=\"2.0\" x1=\"63.4\" x2=\"51.3\" y1=\"86.5\" y2=\"93.5\" />\n",
       "<line stroke=\"rgb(0,0,0)\" stroke-width=\"2.0\" x1=\"178.6\" x2=\"201.9\" y1=\"100.0\" y2=\"86.5\" />\n",
       "<line stroke=\"rgb(0,0,0)\" stroke-width=\"2.0\" x1=\"226.0\" x2=\"238.1\" y1=\"83.9\" y2=\"90.9\" />\n",
       "<line stroke=\"rgb(0,0,0)\" stroke-width=\"2.0\" x1=\"223.0\" x2=\"235.1\" y1=\"89.1\" y2=\"96.1\" />\n",
       "<line stroke=\"rgb(0,0,0)\" stroke-width=\"2.0\" x1=\"213.2\" x2=\"213.2\" y1=\"67.0\" y2=\"53.0\" />\n",
       "<line stroke=\"rgb(0,0,0)\" stroke-width=\"2.0\" x1=\"317.1\" x2=\"317.1\" y1=\"140.0\" y2=\"113.0\" />\n",
       "<line stroke=\"rgb(0,0,0)\" stroke-width=\"2.0\" x1=\"326.9\" x2=\"339.0\" y1=\"90.9\" y2=\"83.9\" />\n",
       "<line stroke=\"rgb(0,0,0)\" stroke-width=\"2.0\" x1=\"329.9\" x2=\"342.0\" y1=\"96.1\" y2=\"89.1\" />\n",
       "<line stroke=\"rgb(0,0,0)\" stroke-width=\"2.0\" x1=\"305.9\" x2=\"293.7\" y1=\"93.5\" y2=\"86.5\" />\n",
       "<line stroke=\"rgb(0,0,0)\" stroke-width=\"2.0\" x1=\"282.5\" x2=\"282.5\" y1=\"200.0\" y2=\"160.0\" />\n",
       "<line stroke=\"rgb(0,0,0)\" stroke-width=\"2.0\" x1=\"289.7\" x2=\"289.7\" y1=\"194.0\" y2=\"166.0\" />\n",
       "<line stroke=\"rgb(0,0,0)\" stroke-width=\"2.0\" x1=\"282.5\" x2=\"317.1\" y1=\"160.0\" y2=\"140.0\" />\n",
       "<line stroke=\"rgb(0,0,0)\" stroke-width=\"2.0\" x1=\"317.1\" x2=\"351.8\" y1=\"140.0\" y2=\"160.0\" />\n",
       "<line stroke=\"rgb(0,0,0)\" stroke-width=\"2.0\" x1=\"318.7\" x2=\"343.0\" y1=\"149.2\" y2=\"163.2\" />\n",
       "<line stroke=\"rgb(0,0,0)\" stroke-width=\"2.0\" x1=\"351.8\" x2=\"351.8\" y1=\"160.0\" y2=\"200.0\" />\n",
       "<line stroke=\"rgb(0,0,0)\" stroke-width=\"2.0\" x1=\"351.8\" x2=\"317.1\" y1=\"200.0\" y2=\"220.0\" />\n",
       "<line stroke=\"rgb(0,0,0)\" stroke-width=\"2.0\" x1=\"343.0\" x2=\"318.7\" y1=\"196.8\" y2=\"210.8\" />\n",
       "<line stroke=\"rgb(0,0,0)\" stroke-width=\"2.0\" x1=\"317.1\" x2=\"282.5\" y1=\"220.0\" y2=\"200.0\" />\n",
       "<line stroke=\"rgb(0,0,0)\" stroke-width=\"2.0\" x1=\"109.3\" x2=\"109.3\" y1=\"140.0\" y2=\"100.0\" />\n",
       "<line stroke=\"rgb(0,0,0)\" stroke-width=\"2.0\" x1=\"116.5\" x2=\"116.5\" y1=\"134.0\" y2=\"106.0\" />\n",
       "<line stroke=\"rgb(0,0,0)\" stroke-width=\"2.0\" x1=\"109.3\" x2=\"143.9\" y1=\"100.0\" y2=\"80.0\" />\n",
       "<line stroke=\"rgb(0,0,0)\" stroke-width=\"2.0\" x1=\"143.9\" x2=\"178.6\" y1=\"80.0\" y2=\"100.0\" />\n",
       "<line stroke=\"rgb(0,0,0)\" stroke-width=\"2.0\" x1=\"145.5\" x2=\"169.8\" y1=\"89.2\" y2=\"103.2\" />\n",
       "<line stroke=\"rgb(0,0,0)\" stroke-width=\"2.0\" x1=\"178.6\" x2=\"178.6\" y1=\"100.0\" y2=\"140.0\" />\n",
       "<line stroke=\"rgb(0,0,0)\" stroke-width=\"2.0\" x1=\"178.6\" x2=\"143.9\" y1=\"140.0\" y2=\"160.0\" />\n",
       "<line stroke=\"rgb(0,0,0)\" stroke-width=\"2.0\" x1=\"169.8\" x2=\"145.5\" y1=\"136.8\" y2=\"150.8\" />\n",
       "<line stroke=\"rgb(0,0,0)\" stroke-width=\"2.0\" x1=\"143.9\" x2=\"109.3\" y1=\"160.0\" y2=\"140.0\" />\n",
       "<text fill=\"rgb(255,12,12)\" font-size=\"16\" stroke=\"rgb(255,12,12)\" stroke-width=\"1\" x=\"380.410162\" y=\"268.000000\">O</text>\n",
       "<text fill=\"rgb(12,12,255)\" font-size=\"16\" stroke=\"rgb(12,12,255)\" stroke-width=\"1\" x=\"391.210162\" y=\"215.968000\">+</text>\n",
       "<text fill=\"rgb(12,12,255)\" font-size=\"16\" stroke=\"rgb(12,12,255)\" stroke-width=\"1\" x=\"380.410162\" y=\"228.000000\">N</text>\n",
       "<text fill=\"rgb(255,12,12)\" font-size=\"16\" stroke=\"rgb(255,12,12)\" stroke-width=\"1\" x=\"425.851178\" y=\"185.888000\">_</text>\n",
       "<text fill=\"rgb(255,12,12)\" font-size=\"16\" stroke=\"rgb(255,12,12)\" stroke-width=\"1\" x=\"415.051178\" y=\"208.000000\">O</text>\n",
       "<text fill=\"rgb(178,178,0)\" font-size=\"16\" stroke=\"rgb(178,178,0)\" stroke-width=\"1\" x=\"241.846097\" y=\"148.000000\">S</text>\n",
       "<text fill=\"rgb(178,178,0)\" font-size=\"16\" stroke=\"rgb(178,178,0)\" stroke-width=\"1\" x=\"207.205081\" y=\"168.000000\">S</text>\n",
       "<text fill=\"rgb(12,12,255)\" font-size=\"16\" stroke=\"rgb(12,12,255)\" stroke-width=\"1\" x=\"79.441016\" y=\"75.968000\">+</text>\n",
       "<text fill=\"rgb(12,12,255)\" font-size=\"16\" stroke=\"rgb(12,12,255)\" stroke-width=\"1\" x=\"68.641016\" y=\"88.000000\">N</text>\n",
       "<text fill=\"rgb(255,12,12)\" font-size=\"16\" stroke=\"rgb(255,12,12)\" stroke-width=\"1\" x=\"68.641016\" y=\"48.000000\">O</text>\n",
       "<text fill=\"rgb(255,12,12)\" font-size=\"16\" stroke=\"rgb(255,12,12)\" stroke-width=\"1\" x=\"44.800000\" y=\"85.888000\">_</text>\n",
       "<text fill=\"rgb(255,12,12)\" font-size=\"16\" stroke=\"rgb(255,12,12)\" stroke-width=\"1\" x=\"34.000000\" y=\"108.000000\">O</text>\n",
       "<text fill=\"rgb(12,12,255)\" font-size=\"16\" stroke=\"rgb(12,12,255)\" stroke-width=\"1\" x=\"218.005081\" y=\"75.968000\">+</text>\n",
       "<text fill=\"rgb(12,12,255)\" font-size=\"16\" stroke=\"rgb(12,12,255)\" stroke-width=\"1\" x=\"207.205081\" y=\"88.000000\">N</text>\n",
       "<text fill=\"rgb(255,12,12)\" font-size=\"16\" stroke=\"rgb(255,12,12)\" stroke-width=\"1\" x=\"241.846097\" y=\"108.000000\">O</text>\n",
       "<text fill=\"rgb(255,12,12)\" font-size=\"16\" stroke=\"rgb(255,12,12)\" stroke-width=\"1\" x=\"218.005081\" y=\"25.888000\">_</text>\n",
       "<text fill=\"rgb(255,12,12)\" font-size=\"16\" stroke=\"rgb(255,12,12)\" stroke-width=\"1\" x=\"207.205081\" y=\"48.000000\">O</text>\n",
       "<text fill=\"rgb(12,12,255)\" font-size=\"16\" stroke=\"rgb(12,12,255)\" stroke-width=\"1\" x=\"321.928129\" y=\"95.968000\">+</text>\n",
       "<text fill=\"rgb(12,12,255)\" font-size=\"16\" stroke=\"rgb(12,12,255)\" stroke-width=\"1\" x=\"311.128129\" y=\"108.000000\">N</text>\n",
       "<text fill=\"rgb(255,12,12)\" font-size=\"16\" stroke=\"rgb(255,12,12)\" stroke-width=\"1\" x=\"345.769145\" y=\"88.000000\">O</text>\n",
       "<text fill=\"rgb(255,12,12)\" font-size=\"16\" stroke=\"rgb(255,12,12)\" stroke-width=\"1\" x=\"287.287113\" y=\"65.888000\">_</text>\n",
       "<text fill=\"rgb(255,12,12)\" font-size=\"16\" stroke=\"rgb(255,12,12)\" stroke-width=\"1\" x=\"276.487113\" y=\"88.000000\">O</text>\n",
       "</svg>\n"
      ],
      "text/plain": [
       "<pybel.Molecule at 0x7fd0b17b9990>"
      ]
     },
     "execution_count": 15,
     "metadata": {},
     "output_type": "execute_result"
    }
   ],
   "source": [
    "mol_pybel = pybel.Molecule(mol_ob)\n",
    "mol_pybel"
   ]
  },
  {
   "cell_type": "code",
   "execution_count": 16,
   "id": "surrounded-fellowship",
   "metadata": {},
   "outputs": [
    {
     "ename": "ImportError",
     "evalue": "Tkinter or Python Imaging Library not found, but is required for image display. See installation instructions for more information.",
     "output_type": "error",
     "traceback": [
      "\u001b[0;31m---------------------------------------------------------------------------\u001b[0m",
      "\u001b[0;31mImportError\u001b[0m                               Traceback (most recent call last)",
      "\u001b[0;32m<ipython-input-16-0b2cf693e208>\u001b[0m in \u001b[0;36m<module>\u001b[0;34m\u001b[0m\n\u001b[0;32m----> 1\u001b[0;31m \u001b[0mmol_pybel\u001b[0m\u001b[0;34m.\u001b[0m\u001b[0mdraw\u001b[0m\u001b[0;34m(\u001b[0m\u001b[0;34m)\u001b[0m\u001b[0;34m\u001b[0m\u001b[0;34m\u001b[0m\u001b[0m\n\u001b[0m",
      "\u001b[0;32m/opt/anaconda3/envs/applied-ai/lib/python3.7/site-packages/pybel.py\u001b[0m in \u001b[0;36mdraw\u001b[0;34m(self, show, filename, update, usecoords)\u001b[0m\n\u001b[1;32m    666\u001b[0m             \u001b[0;32melse\u001b[0m\u001b[0;34m:\u001b[0m\u001b[0;34m\u001b[0m\u001b[0;34m\u001b[0m\u001b[0m\n\u001b[1;32m    667\u001b[0m                 \u001b[0;32mif\u001b[0m \u001b[0;32mnot\u001b[0m \u001b[0mtk\u001b[0m\u001b[0;34m:\u001b[0m\u001b[0;34m\u001b[0m\u001b[0;34m\u001b[0m\u001b[0m\n\u001b[0;32m--> 668\u001b[0;31m                     raise ImportError(\"Tkinter or Python Imaging Library not \"\n\u001b[0m\u001b[1;32m    669\u001b[0m                                       \u001b[0;34m\"found, but is required for image \"\u001b[0m\u001b[0;34m\u001b[0m\u001b[0;34m\u001b[0m\u001b[0m\n\u001b[1;32m    670\u001b[0m                                       \u001b[0;34m\"display. See installation instructions \"\u001b[0m\u001b[0;34m\u001b[0m\u001b[0;34m\u001b[0m\u001b[0m\n",
      "\u001b[0;31mImportError\u001b[0m: Tkinter or Python Imaging Library not found, but is required for image display. See installation instructions for more information."
     ]
    }
   ],
   "source": [
    "mol_pybel.draw()"
   ]
  },
  {
   "cell_type": "code",
   "execution_count": 17,
   "id": "increasing-cherry",
   "metadata": {},
   "outputs": [
    {
     "name": "stdout",
     "output_type": "stream",
     "text": [
      "None\n"
     ]
    }
   ],
   "source": [
    "x = mol_pybel.make3D()\n",
    "print(x)"
   ]
  },
  {
   "cell_type": "code",
   "execution_count": null,
   "id": "developmental-socket",
   "metadata": {},
   "outputs": [],
   "source": []
  },
  {
   "cell_type": "code",
   "execution_count": null,
   "id": "incredible-windsor",
   "metadata": {},
   "outputs": [],
   "source": []
  }
 ],
 "metadata": {
  "kernelspec": {
   "display_name": "Python 3",
   "language": "python",
   "name": "python3"
  },
  "language_info": {
   "codemirror_mode": {
    "name": "ipython",
    "version": 3
   },
   "file_extension": ".py",
   "mimetype": "text/x-python",
   "name": "python",
   "nbconvert_exporter": "python",
   "pygments_lexer": "ipython3",
   "version": "3.7.10"
  }
 },
 "nbformat": 4,
 "nbformat_minor": 5
}
