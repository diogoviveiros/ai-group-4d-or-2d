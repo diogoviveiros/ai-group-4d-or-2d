{
 "cells": [
  {
   "cell_type": "code",
   "execution_count": 22,
   "id": "located-kingston",
   "metadata": {},
   "outputs": [],
   "source": [
    "import openbabel as ob\n",
    "import pybel"
   ]
  },
  {
   "cell_type": "markdown",
   "id": "earned-programmer",
   "metadata": {},
   "source": [
    "Make the molecule object:"
   ]
  },
  {
   "cell_type": "code",
   "execution_count": 25,
   "id": "stone-school",
   "metadata": {},
   "outputs": [
    {
     "data": {
      "text/plain": [
       "True"
      ]
     },
     "execution_count": 25,
     "metadata": {},
     "output_type": "execute_result"
    }
   ],
   "source": [
    "test_smiles = \"O=[N+]([O-])c1ccc(SSc2ccc([N+](=O)[O-])cc2[N+](=O)[O-])c([N+](=O)[O-])c1\"\n",
    "\n",
    "obConversion = ob.OBConversion()\n",
    "obConversion.SetInAndOutFormats(\"smi\", \"mdl\")\n",
    "\n",
    "mol_ob = ob.OBMol()\n",
    "obConversion.ReadString(mol_ob, test_smiles)"
   ]
  },
  {
   "cell_type": "code",
   "execution_count": 24,
   "id": "equal-reservation",
   "metadata": {},
   "outputs": [
    {
     "data": {
      "image/svg+xml": [
       "<svg xmlns=\"http://www.w3.org/2000/svg\" font-family=\"sans-serif\" height=\"100\" stroke=\"rgb(0,0,0)\" stroke-linecap=\"round\" stroke-width=\"2\" viewBox=\"0 0 461.051 300\" width=\"100\" x=\"0\" y=\"0\">\n",
       "<line stroke=\"rgb(0,0,0)\" stroke-width=\"2.0\" x1=\"383.4\" x2=\"383.4\" y1=\"247.0\" y2=\"233.0\" />\n",
       "<line stroke=\"rgb(0,0,0)\" stroke-width=\"2.0\" x1=\"389.4\" x2=\"389.4\" y1=\"247.0\" y2=\"233.0\" />\n",
       "<line stroke=\"rgb(0,0,0)\" stroke-width=\"2.0\" x1=\"397.7\" x2=\"409.8\" y1=\"213.5\" y2=\"206.5\" />\n",
       "<line stroke=\"rgb(0,0,0)\" stroke-width=\"2.0\" x1=\"375.2\" x2=\"351.8\" y1=\"213.5\" y2=\"200.0\" />\n",
       "<line stroke=\"rgb(0,0,0)\" stroke-width=\"2.0\" x1=\"282.5\" x2=\"259.1\" y1=\"160.0\" y2=\"146.5\" />\n",
       "<line stroke=\"rgb(0,0,0)\" stroke-width=\"2.0\" x1=\"236.6\" x2=\"224.5\" y1=\"146.5\" y2=\"153.5\" />\n",
       "<line stroke=\"rgb(0,0,0)\" stroke-width=\"2.0\" x1=\"201.9\" x2=\"178.6\" y1=\"153.5\" y2=\"140.0\" />\n",
       "<line stroke=\"rgb(0,0,0)\" stroke-width=\"2.0\" x1=\"109.3\" x2=\"85.9\" y1=\"100.0\" y2=\"86.5\" />\n",
       "<line stroke=\"rgb(0,0,0)\" stroke-width=\"2.0\" x1=\"71.6\" x2=\"71.6\" y1=\"67.0\" y2=\"53.0\" />\n",
       "<line stroke=\"rgb(0,0,0)\" stroke-width=\"2.0\" x1=\"77.6\" x2=\"77.6\" y1=\"67.0\" y2=\"53.0\" />\n",
       "<line stroke=\"rgb(0,0,0)\" stroke-width=\"2.0\" x1=\"63.4\" x2=\"51.3\" y1=\"86.5\" y2=\"93.5\" />\n",
       "<line stroke=\"rgb(0,0,0)\" stroke-width=\"2.0\" x1=\"178.6\" x2=\"201.9\" y1=\"100.0\" y2=\"86.5\" />\n",
       "<line stroke=\"rgb(0,0,0)\" stroke-width=\"2.0\" x1=\"226.0\" x2=\"238.1\" y1=\"83.9\" y2=\"90.9\" />\n",
       "<line stroke=\"rgb(0,0,0)\" stroke-width=\"2.0\" x1=\"223.0\" x2=\"235.1\" y1=\"89.1\" y2=\"96.1\" />\n",
       "<line stroke=\"rgb(0,0,0)\" stroke-width=\"2.0\" x1=\"213.2\" x2=\"213.2\" y1=\"67.0\" y2=\"53.0\" />\n",
       "<line stroke=\"rgb(0,0,0)\" stroke-width=\"2.0\" x1=\"317.1\" x2=\"317.1\" y1=\"140.0\" y2=\"113.0\" />\n",
       "<line stroke=\"rgb(0,0,0)\" stroke-width=\"2.0\" x1=\"326.9\" x2=\"339.0\" y1=\"90.9\" y2=\"83.9\" />\n",
       "<line stroke=\"rgb(0,0,0)\" stroke-width=\"2.0\" x1=\"329.9\" x2=\"342.0\" y1=\"96.1\" y2=\"89.1\" />\n",
       "<line stroke=\"rgb(0,0,0)\" stroke-width=\"2.0\" x1=\"305.9\" x2=\"293.7\" y1=\"93.5\" y2=\"86.5\" />\n",
       "<line stroke=\"rgb(0,0,0)\" stroke-width=\"2.0\" x1=\"282.5\" x2=\"282.5\" y1=\"200.0\" y2=\"160.0\" />\n",
       "<line stroke=\"rgb(0,0,0)\" stroke-width=\"2.0\" x1=\"289.7\" x2=\"289.7\" y1=\"194.0\" y2=\"166.0\" />\n",
       "<line stroke=\"rgb(0,0,0)\" stroke-width=\"2.0\" x1=\"282.5\" x2=\"317.1\" y1=\"160.0\" y2=\"140.0\" />\n",
       "<line stroke=\"rgb(0,0,0)\" stroke-width=\"2.0\" x1=\"317.1\" x2=\"351.8\" y1=\"140.0\" y2=\"160.0\" />\n",
       "<line stroke=\"rgb(0,0,0)\" stroke-width=\"2.0\" x1=\"318.7\" x2=\"343.0\" y1=\"149.2\" y2=\"163.2\" />\n",
       "<line stroke=\"rgb(0,0,0)\" stroke-width=\"2.0\" x1=\"351.8\" x2=\"351.8\" y1=\"160.0\" y2=\"200.0\" />\n",
       "<line stroke=\"rgb(0,0,0)\" stroke-width=\"2.0\" x1=\"351.8\" x2=\"317.1\" y1=\"200.0\" y2=\"220.0\" />\n",
       "<line stroke=\"rgb(0,0,0)\" stroke-width=\"2.0\" x1=\"343.0\" x2=\"318.7\" y1=\"196.8\" y2=\"210.8\" />\n",
       "<line stroke=\"rgb(0,0,0)\" stroke-width=\"2.0\" x1=\"317.1\" x2=\"282.5\" y1=\"220.0\" y2=\"200.0\" />\n",
       "<line stroke=\"rgb(0,0,0)\" stroke-width=\"2.0\" x1=\"109.3\" x2=\"109.3\" y1=\"140.0\" y2=\"100.0\" />\n",
       "<line stroke=\"rgb(0,0,0)\" stroke-width=\"2.0\" x1=\"116.5\" x2=\"116.5\" y1=\"134.0\" y2=\"106.0\" />\n",
       "<line stroke=\"rgb(0,0,0)\" stroke-width=\"2.0\" x1=\"109.3\" x2=\"143.9\" y1=\"100.0\" y2=\"80.0\" />\n",
       "<line stroke=\"rgb(0,0,0)\" stroke-width=\"2.0\" x1=\"143.9\" x2=\"178.6\" y1=\"80.0\" y2=\"100.0\" />\n",
       "<line stroke=\"rgb(0,0,0)\" stroke-width=\"2.0\" x1=\"145.5\" x2=\"169.8\" y1=\"89.2\" y2=\"103.2\" />\n",
       "<line stroke=\"rgb(0,0,0)\" stroke-width=\"2.0\" x1=\"178.6\" x2=\"178.6\" y1=\"100.0\" y2=\"140.0\" />\n",
       "<line stroke=\"rgb(0,0,0)\" stroke-width=\"2.0\" x1=\"178.6\" x2=\"143.9\" y1=\"140.0\" y2=\"160.0\" />\n",
       "<line stroke=\"rgb(0,0,0)\" stroke-width=\"2.0\" x1=\"169.8\" x2=\"145.5\" y1=\"136.8\" y2=\"150.8\" />\n",
       "<line stroke=\"rgb(0,0,0)\" stroke-width=\"2.0\" x1=\"143.9\" x2=\"109.3\" y1=\"160.0\" y2=\"140.0\" />\n",
       "<text fill=\"rgb(255,12,12)\" font-size=\"16\" stroke=\"rgb(255,12,12)\" stroke-width=\"1\" x=\"380.410162\" y=\"268.000000\">O</text>\n",
       "<text fill=\"rgb(12,12,255)\" font-size=\"16\" stroke=\"rgb(12,12,255)\" stroke-width=\"1\" x=\"391.210162\" y=\"215.968000\">+</text>\n",
       "<text fill=\"rgb(12,12,255)\" font-size=\"16\" stroke=\"rgb(12,12,255)\" stroke-width=\"1\" x=\"380.410162\" y=\"228.000000\">N</text>\n",
       "<text fill=\"rgb(255,12,12)\" font-size=\"16\" stroke=\"rgb(255,12,12)\" stroke-width=\"1\" x=\"425.851178\" y=\"185.888000\">_</text>\n",
       "<text fill=\"rgb(255,12,12)\" font-size=\"16\" stroke=\"rgb(255,12,12)\" stroke-width=\"1\" x=\"415.051178\" y=\"208.000000\">O</text>\n",
       "<text fill=\"rgb(178,178,0)\" font-size=\"16\" stroke=\"rgb(178,178,0)\" stroke-width=\"1\" x=\"241.846097\" y=\"148.000000\">S</text>\n",
       "<text fill=\"rgb(178,178,0)\" font-size=\"16\" stroke=\"rgb(178,178,0)\" stroke-width=\"1\" x=\"207.205081\" y=\"168.000000\">S</text>\n",
       "<text fill=\"rgb(12,12,255)\" font-size=\"16\" stroke=\"rgb(12,12,255)\" stroke-width=\"1\" x=\"79.441016\" y=\"75.968000\">+</text>\n",
       "<text fill=\"rgb(12,12,255)\" font-size=\"16\" stroke=\"rgb(12,12,255)\" stroke-width=\"1\" x=\"68.641016\" y=\"88.000000\">N</text>\n",
       "<text fill=\"rgb(255,12,12)\" font-size=\"16\" stroke=\"rgb(255,12,12)\" stroke-width=\"1\" x=\"68.641016\" y=\"48.000000\">O</text>\n",
       "<text fill=\"rgb(255,12,12)\" font-size=\"16\" stroke=\"rgb(255,12,12)\" stroke-width=\"1\" x=\"44.800000\" y=\"85.888000\">_</text>\n",
       "<text fill=\"rgb(255,12,12)\" font-size=\"16\" stroke=\"rgb(255,12,12)\" stroke-width=\"1\" x=\"34.000000\" y=\"108.000000\">O</text>\n",
       "<text fill=\"rgb(12,12,255)\" font-size=\"16\" stroke=\"rgb(12,12,255)\" stroke-width=\"1\" x=\"218.005081\" y=\"75.968000\">+</text>\n",
       "<text fill=\"rgb(12,12,255)\" font-size=\"16\" stroke=\"rgb(12,12,255)\" stroke-width=\"1\" x=\"207.205081\" y=\"88.000000\">N</text>\n",
       "<text fill=\"rgb(255,12,12)\" font-size=\"16\" stroke=\"rgb(255,12,12)\" stroke-width=\"1\" x=\"241.846097\" y=\"108.000000\">O</text>\n",
       "<text fill=\"rgb(255,12,12)\" font-size=\"16\" stroke=\"rgb(255,12,12)\" stroke-width=\"1\" x=\"218.005081\" y=\"25.888000\">_</text>\n",
       "<text fill=\"rgb(255,12,12)\" font-size=\"16\" stroke=\"rgb(255,12,12)\" stroke-width=\"1\" x=\"207.205081\" y=\"48.000000\">O</text>\n",
       "<text fill=\"rgb(12,12,255)\" font-size=\"16\" stroke=\"rgb(12,12,255)\" stroke-width=\"1\" x=\"321.928129\" y=\"95.968000\">+</text>\n",
       "<text fill=\"rgb(12,12,255)\" font-size=\"16\" stroke=\"rgb(12,12,255)\" stroke-width=\"1\" x=\"311.128129\" y=\"108.000000\">N</text>\n",
       "<text fill=\"rgb(255,12,12)\" font-size=\"16\" stroke=\"rgb(255,12,12)\" stroke-width=\"1\" x=\"345.769145\" y=\"88.000000\">O</text>\n",
       "<text fill=\"rgb(255,12,12)\" font-size=\"16\" stroke=\"rgb(255,12,12)\" stroke-width=\"1\" x=\"287.287113\" y=\"65.888000\">_</text>\n",
       "<text fill=\"rgb(255,12,12)\" font-size=\"16\" stroke=\"rgb(255,12,12)\" stroke-width=\"1\" x=\"276.487113\" y=\"88.000000\">O</text>\n",
       "</svg>\n"
      ],
      "text/plain": [
       "<pybel.Molecule at 0x7fd0d04cd8d0>"
      ]
     },
     "execution_count": 24,
     "metadata": {},
     "output_type": "execute_result"
    }
   ],
   "source": [
    "mol_pybel = pybel.Molecule(mol_ob)\n",
    "mol_pybel"
   ]
  },
  {
   "cell_type": "code",
   "execution_count": 16,
   "id": "intellectual-partnership",
   "metadata": {},
   "outputs": [
    {
     "ename": "ImportError",
     "evalue": "Tkinter or Python Imaging Library not found, but is required for image display. See installation instructions for more information.",
     "output_type": "error",
     "traceback": [
      "\u001b[0;31m---------------------------------------------------------------------------\u001b[0m",
      "\u001b[0;31mImportError\u001b[0m                               Traceback (most recent call last)",
      "\u001b[0;32m<ipython-input-16-0b2cf693e208>\u001b[0m in \u001b[0;36m<module>\u001b[0;34m\u001b[0m\n\u001b[0;32m----> 1\u001b[0;31m \u001b[0mmol_pybel\u001b[0m\u001b[0;34m.\u001b[0m\u001b[0mdraw\u001b[0m\u001b[0;34m(\u001b[0m\u001b[0;34m)\u001b[0m\u001b[0;34m\u001b[0m\u001b[0;34m\u001b[0m\u001b[0m\n\u001b[0m",
      "\u001b[0;32m/opt/anaconda3/envs/applied-ai/lib/python3.7/site-packages/pybel.py\u001b[0m in \u001b[0;36mdraw\u001b[0;34m(self, show, filename, update, usecoords)\u001b[0m\n\u001b[1;32m    666\u001b[0m             \u001b[0;32melse\u001b[0m\u001b[0;34m:\u001b[0m\u001b[0;34m\u001b[0m\u001b[0;34m\u001b[0m\u001b[0m\n\u001b[1;32m    667\u001b[0m                 \u001b[0;32mif\u001b[0m \u001b[0;32mnot\u001b[0m \u001b[0mtk\u001b[0m\u001b[0;34m:\u001b[0m\u001b[0;34m\u001b[0m\u001b[0;34m\u001b[0m\u001b[0m\n\u001b[0;32m--> 668\u001b[0;31m                     raise ImportError(\"Tkinter or Python Imaging Library not \"\n\u001b[0m\u001b[1;32m    669\u001b[0m                                       \u001b[0;34m\"found, but is required for image \"\u001b[0m\u001b[0;34m\u001b[0m\u001b[0;34m\u001b[0m\u001b[0m\n\u001b[1;32m    670\u001b[0m                                       \u001b[0;34m\"display. See installation instructions \"\u001b[0m\u001b[0;34m\u001b[0m\u001b[0;34m\u001b[0m\u001b[0m\n",
      "\u001b[0;31mImportError\u001b[0m: Tkinter or Python Imaging Library not found, but is required for image display. See installation instructions for more information."
     ]
    }
   ],
   "source": [
    "mol_pybel.draw()"
   ]
  },
  {
   "cell_type": "code",
   "execution_count": 50,
   "id": "fifth-needle",
   "metadata": {},
   "outputs": [
    {
     "data": {
      "text/plain": [
       "{'acesin': 'ACES input format',\n",
       " 'adf': 'ADF cartesian input format',\n",
       " 'alc': 'Alchemy format',\n",
       " 'ascii': 'ASCII format',\n",
       " 'bgf': 'MSI BGF format',\n",
       " 'box': 'Dock 3.5 Box format',\n",
       " 'bs': 'Ball and Stick format',\n",
       " 'c3d1': 'Chem3D Cartesian 1 format',\n",
       " 'c3d2': 'Chem3D Cartesian 2 format',\n",
       " 'cac': 'CAChe MolStruct format',\n",
       " 'caccrt': 'Cacao Cartesian format',\n",
       " 'cache': 'CAChe MolStruct format',\n",
       " 'cacint': 'Cacao Internal format',\n",
       " 'can': 'Canonical SMILES format',\n",
       " 'cdjson': 'ChemDoodle JSON',\n",
       " 'cdxml': 'ChemDraw CDXML format',\n",
       " 'cht': 'Chemtool format',\n",
       " 'cif': 'Crystallographic Information File',\n",
       " 'ck': 'ChemKin format',\n",
       " 'cml': 'Chemical Markup Language',\n",
       " 'cmlr': 'CML Reaction format',\n",
       " 'com': 'Gaussian 98/03 Input',\n",
       " 'confabreport': 'Confab report format',\n",
       " 'CONFIG': 'DL-POLY CONFIG',\n",
       " 'CONTCAR': 'VASP format',\n",
       " 'CONTFF': 'MDFF format',\n",
       " 'copy': 'Copy raw text',\n",
       " 'crk2d': 'Chemical Resource Kit diagram(2D)',\n",
       " 'crk3d': 'Chemical Resource Kit 3D format',\n",
       " 'csr': 'Accelrys/MSI Quanta CSR format',\n",
       " 'cssr': 'CSD CSSR format',\n",
       " 'ct': 'ChemDraw Connection Table format',\n",
       " 'cub': 'Gaussian cube format',\n",
       " 'cube': 'Gaussian cube format',\n",
       " 'dalmol': 'DALTON input format',\n",
       " 'dmol': 'DMol3 coordinates format',\n",
       " 'dx': 'OpenDX cube format for APBS',\n",
       " 'ent': 'Protein Data Bank format',\n",
       " 'exyz': 'Extended XYZ cartesian coordinates format',\n",
       " 'fa': 'FASTA format',\n",
       " 'fasta': 'FASTA format',\n",
       " 'feat': 'Feature format',\n",
       " 'fh': 'Fenske-Hall Z-Matrix format',\n",
       " 'fhiaims': 'FHIaims XYZ format',\n",
       " 'fix': 'SMILES FIX format',\n",
       " 'fps': 'FPS text fingerprint format (Dalke)',\n",
       " 'fpt': 'Fingerprint format',\n",
       " 'fract': 'Free Form Fractional format',\n",
       " 'fs': 'Fastsearch format',\n",
       " 'fsa': 'FASTA format',\n",
       " 'gamin': 'GAMESS Input',\n",
       " 'gau': 'Gaussian 98/03 Input',\n",
       " 'gjc': 'Gaussian 98/03 Input',\n",
       " 'gjf': 'Gaussian 98/03 Input',\n",
       " 'gpr': 'Ghemical format',\n",
       " 'gr96': 'GROMOS96 format',\n",
       " 'gro': 'GRO format',\n",
       " 'gukin': 'GAMESS-UK Input',\n",
       " 'gukout': 'GAMESS-UK Output',\n",
       " 'gzmat': 'Gaussian Z-Matrix Input',\n",
       " 'hin': 'HyperChem HIN format',\n",
       " 'inchi': 'InChI format',\n",
       " 'inchikey': 'InChIKey',\n",
       " 'inp': 'GAMESS Input',\n",
       " 'jin': 'Jaguar input format',\n",
       " 'k': 'Compare molecules using InChI',\n",
       " 'lmpdat': 'The LAMMPS data format',\n",
       " 'lpmd': 'LPMD format',\n",
       " 'mcdl': 'MCDL format',\n",
       " 'mcif': 'Macromolecular Crystallographic Info',\n",
       " 'MDFF': 'MDFF format',\n",
       " 'mdl': 'MDL MOL format',\n",
       " 'ml2': 'Sybyl Mol2 format',\n",
       " 'mmcif': 'Macromolecular Crystallographic Info',\n",
       " 'mmd': 'MacroModel format',\n",
       " 'mmod': 'MacroModel format',\n",
       " 'mna': 'Multilevel Neighborhoods of Atoms (MNA)',\n",
       " 'mol': 'MDL MOL format',\n",
       " 'mol2': 'Sybyl Mol2 format',\n",
       " 'mold': 'Molden format',\n",
       " 'molden': 'Molden format',\n",
       " 'molf': 'Molden format',\n",
       " 'molreport': 'Open Babel molecule report',\n",
       " 'mop': 'MOPAC Cartesian format',\n",
       " 'mopcrt': 'MOPAC Cartesian format',\n",
       " 'mopin': 'MOPAC Internal',\n",
       " 'mp': 'Molpro input format',\n",
       " 'mpc': 'MOPAC Cartesian format',\n",
       " 'mpd': 'MolPrint2D format',\n",
       " 'mpqcin': 'MPQC simplified input format',\n",
       " 'mrv': 'Chemical Markup Language',\n",
       " 'msms': \"M.F. Sanner's MSMS input format\",\n",
       " 'nul': 'Outputs nothing',\n",
       " 'nw': 'NWChem input format',\n",
       " 'orcainp': 'ORCA input format',\n",
       " 'outmol': 'DMol3 coordinates format',\n",
       " 'paint': 'Painter format',\n",
       " 'pcjson': 'PubChem JSON',\n",
       " 'pcm': 'PCModel Format',\n",
       " 'pdb': 'Protein Data Bank format',\n",
       " 'pdbqt': 'AutoDock PDBQT format',\n",
       " 'png': 'PNG 2D depiction',\n",
       " 'pointcloud': 'Point cloud on VDW surface',\n",
       " 'POSCAR': 'VASP format',\n",
       " 'POSFF': 'MDFF format',\n",
       " 'pov': 'POV-Ray input format',\n",
       " 'pqr': 'PQR format',\n",
       " 'pqs': 'Parallel Quantum Solutions format',\n",
       " 'qcin': 'Q-Chem input format',\n",
       " 'report': 'Open Babel report format',\n",
       " 'rsmi': 'Reaction SMILES format',\n",
       " 'rxn': 'MDL RXN format',\n",
       " 'sd': 'MDL MOL format',\n",
       " 'sdf': 'MDL MOL format',\n",
       " 'smi': 'SMILES format',\n",
       " 'smiles': 'SMILES format',\n",
       " 'stl': 'STL 3D-printing format',\n",
       " 'svg': 'SVG 2D depiction',\n",
       " 'sy2': 'Sybyl Mol2 format',\n",
       " 'tdd': 'Thermo format',\n",
       " 'text': 'Read and write raw text',\n",
       " 'therm': 'Thermo format',\n",
       " 'tmol': 'TurboMole Coordinate format',\n",
       " 'txt': 'Title format',\n",
       " 'txyz': 'Tinker XYZ format',\n",
       " 'unixyz': 'UniChem XYZ format',\n",
       " 'VASP': 'VASP format',\n",
       " 'vmol': 'ViewMol format',\n",
       " 'xed': 'XED format',\n",
       " 'xyz': 'XYZ cartesian coordinates format',\n",
       " 'yob': 'YASARA.org YOB format',\n",
       " 'zin': 'ZINDO input format'}"
      ]
     },
     "execution_count": 50,
     "metadata": {},
     "output_type": "execute_result"
    }
   ],
   "source": [
    "pybel.outformats"
   ]
  },
  {
   "cell_type": "code",
   "execution_count": 51,
   "id": "desperate-airplane",
   "metadata": {},
   "outputs": [
    {
     "name": "stdout",
     "output_type": "stream",
     "text": [
      "32\n",
      "\n",
      "O          1.03238        0.06395       -0.07215\n",
      "N          2.26834        0.06959       -0.03797\n",
      "O          2.99634        0.95450       -0.50912\n",
      "C          2.92716       -1.07013        0.59659\n",
      "C          4.13271       -0.87272        1.26311\n",
      "C          4.81202       -1.97088        1.78835\n",
      "C          4.42708       -3.28658        1.46439\n",
      "S          5.84353       -4.43755        1.33797\n",
      "S          6.99743       -4.18586        3.04937\n",
      "C          7.80382       -5.76824        3.38262\n",
      "C          9.16607       -5.67272        3.79060\n",
      "C          9.98135       -6.80887        3.96681\n",
      "C          9.41720       -8.07506        3.84013\n",
      "N         10.24232       -9.28849        3.93741\n",
      "O         11.46062       -9.14313        4.11006\n",
      "O          9.67153      -10.37954        3.81717\n",
      "C          8.05152       -8.20133        3.58746\n",
      "C          7.25844       -7.06295        3.30991\n",
      "N          5.85886       -7.36363        2.98056\n",
      "O          5.61358       -8.49117        2.54907\n",
      "O          4.99414       -6.50833        3.23230\n",
      "C          3.15273       -3.47018        0.86085\n",
      "N          2.59979       -4.79397        0.50520\n",
      "O          3.23112       -5.81031        0.80443\n",
      "O          1.51137       -4.81118       -0.09092\n",
      "C          2.37346       -2.34750        0.48531\n",
      "H          4.58855        0.11297        1.33875\n",
      "H          5.72623       -1.77668        2.34322\n",
      "H          9.62991       -4.69984        3.97240\n",
      "H         11.04081       -6.68930        4.19852\n",
      "H          7.59411       -9.18977        3.59944\n",
      "H          1.38863       -2.46424        0.02971\n",
      "\n"
     ]
    }
   ],
   "source": [
    "mol_pybel.make3D()\n",
    "coord = mol_pybel.write('xyz')\n",
    "print(coord)"
   ]
  },
  {
   "cell_type": "code",
   "execution_count": 17,
   "id": "incorrect-parliament",
   "metadata": {},
   "outputs": [
    {
     "name": "stdout",
     "output_type": "stream",
     "text": [
      "None\n"
     ]
    }
   ],
   "source": [
    "x = mol_pybel.make3D()\n",
    "print(x)"
   ]
  },
  {
   "cell_type": "code",
   "execution_count": 26,
   "id": "domestic-pantyhose",
   "metadata": {},
   "outputs": [
    {
     "data": {
      "text/plain": [
       "<Swig Object of type 'double *' at 0x7fd0d113a7b0>"
      ]
     },
     "execution_count": 26,
     "metadata": {},
     "output_type": "execute_result"
    }
   ],
   "source": [
    "mol_ob.GetCoordinates()\n"
   ]
  },
  {
   "cell_type": "code",
   "execution_count": 37,
   "id": "previous-legislation",
   "metadata": {},
   "outputs": [],
   "source": [
    "builder = ob.OBBuilder()\n",
    "builder.Build(mol_ob)"
   ]
  },
  {
   "cell_type": "code",
   "execution_count": 38,
   "id": "optical-exploration",
   "metadata": {},
   "outputs": [
    {
     "data": {
      "text/plain": [
       "True"
      ]
     },
     "execution_count": 38,
     "metadata": {},
     "output_type": "execute_result"
    }
   ],
   "source": [
    "x"
   ]
  },
  {
   "cell_type": "code",
   "execution_count": 42,
   "id": "bridal-custody",
   "metadata": {},
   "outputs": [
    {
     "data": {
      "text/plain": [
       "True"
      ]
     },
     "execution_count": 42,
     "metadata": {},
     "output_type": "execute_result"
    }
   ],
   "source": [
    "mol_ob.Has3D()"
   ]
  },
  {
   "cell_type": "code",
   "execution_count": 41,
   "id": "successful-central",
   "metadata": {},
   "outputs": [
    {
     "data": {
      "text/plain": [
       "<Swig Object of type 'double *' at 0x7fd0d0f22d20>"
      ]
     },
     "execution_count": 41,
     "metadata": {},
     "output_type": "execute_result"
    }
   ],
   "source": [
    "mol_ob.GetCoordinates()"
   ]
  },
  {
   "cell_type": "code",
   "execution_count": 44,
   "id": "modified-surveillance",
   "metadata": {},
   "outputs": [
    {
     "ename": "TypeError",
     "evalue": "OBMol_GetAtom expected 2 arguments, got 1",
     "output_type": "error",
     "traceback": [
      "\u001b[0;31m---------------------------------------------------------------------------\u001b[0m",
      "\u001b[0;31mTypeError\u001b[0m                                 Traceback (most recent call last)",
      "\u001b[0;32m<ipython-input-44-5aed4a50e3e5>\u001b[0m in \u001b[0;36m<module>\u001b[0;34m\u001b[0m\n\u001b[0;32m----> 1\u001b[0;31m \u001b[0mmolcoords\u001b[0m \u001b[0;34m=\u001b[0m \u001b[0;34m[\u001b[0m\u001b[0matom\u001b[0m\u001b[0;34m.\u001b[0m\u001b[0mcoords\u001b[0m \u001b[0;32mfor\u001b[0m \u001b[0matom\u001b[0m \u001b[0;32min\u001b[0m \u001b[0mmol_ob\u001b[0m\u001b[0;34m.\u001b[0m\u001b[0mGetAtom\u001b[0m\u001b[0;34m(\u001b[0m\u001b[0;34m)\u001b[0m\u001b[0;34m]\u001b[0m\u001b[0;34m\u001b[0m\u001b[0;34m\u001b[0m\u001b[0m\n\u001b[0m",
      "\u001b[0;31mTypeError\u001b[0m: OBMol_GetAtom expected 2 arguments, got 1"
     ]
    }
   ],
   "source": [
    "molcoords = [atom.coords for atom in ] "
   ]
  },
  {
   "cell_type": "code",
   "execution_count": null,
   "id": "swiss-utility",
   "metadata": {},
   "outputs": [],
   "source": []
  }
 ],
 "metadata": {
  "kernelspec": {
   "display_name": "Python 3",
   "language": "python",
   "name": "python3"
  },
  "language_info": {
   "codemirror_mode": {
    "name": "ipython",
    "version": 3
   },
   "file_extension": ".py",
   "mimetype": "text/x-python",
   "name": "python",
   "nbconvert_exporter": "python",
   "pygments_lexer": "ipython3",
   "version": "3.7.10"
  }
 },
 "nbformat": 4,
 "nbformat_minor": 5
}
