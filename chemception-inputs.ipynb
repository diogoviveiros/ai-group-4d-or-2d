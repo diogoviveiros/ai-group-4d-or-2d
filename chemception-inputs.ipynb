{
 "cells": [
  {
   "cell_type": "markdown",
   "id": "cultural-council",
   "metadata": {},
   "source": [
    "# Making Inputs for Chemception\n",
    "This notebook shows a function that creates the inputs needed for the Chemception machine learning model. \n",
    "\n",
    "It is modeled after code from [Abdulk084/Chemception](https://github.com/Abdulk084/Chemception/blob/master/chemcemption.ipynb)"
   ]
  },
  {
   "cell_type": "code",
   "execution_count": 1,
   "id": "second-religious",
   "metadata": {},
   "outputs": [],
   "source": [
    "%matplotlib inline\n",
    "from matplotlib import pyplot as plt\n",
    "from rdkit.Chem import AllChem\n",
    "from rdkit import Chem\n",
    "import numpy as np"
   ]
  },
  {
   "cell_type": "markdown",
   "id": "hollow-annual",
   "metadata": {},
   "source": [
    "## Define the Function\n",
    "We are going to make a function that goes from SMILES string to image following the best-performing, EngA representation"
   ]
  },
  {
   "cell_type": "code",
   "execution_count": 2,
   "id": "perfect-orange",
   "metadata": {},
   "outputs": [
    {
     "name": "stderr",
     "output_type": "stream",
     "text": [
      "Clipping input data to the valid range for imshow with RGB data ([0..1] for floats or [0..255] for integers).\n"
     ]
    },
    {
     "data": {
      "text/plain": [
       "<matplotlib.image.AxesImage at 0x7f91f0e077d0>"
      ]
     },
     "execution_count": 2,
     "metadata": {},
     "output_type": "execute_result"
    },
    {
     "data": {
      "image/png": "[encoded data removed]",
      "text/plain": [
       "<Figure size 432x288 with 1 Axes>"
      ]
     },
     "metadata": {
      "needs_background": "light"
     },
     "output_type": "display_data"
    }
   ],
   "source": [
    "def generate_image(smiles: str, size: int = 80, resolution: float = 0.5) -> np.ndarray:\n",
    "    \"\"\"Generate an image of a molecule with atomic information in the channels\n",
    "    \n",
    "    Channel 0: Atomic number of atoms\n",
    "    Channel 1: Bond order\n",
    "    Channel 2: Partial charges\n",
    "    Channel 3: Hybridizaton of the atom\n",
    "    \n",
    "    Args:\n",
    "        smiles: SMILES string of a molecule\n",
    "        size: Size of the image\n",
    "        resolution: Spatial resolution of the pixels\n",
    "    Returns:\n",
    "        A 4-channel image\n",
    "    \"\"\"\n",
    "    \n",
    "    # Parse the molecule\n",
    "    mol = Chem.MolFromSmiles(smiles)\n",
    "    \n",
    "    # Generate the 2D coordinates of the molecule\n",
    "    AllChem.Compute2DCoords(mol)\n",
    "    coords = mol.GetConformer(0).GetPositions()[:, :2]  # Drop the z dimension\n",
    "    \n",
    "    # Center the molecule in the middle of a box\n",
    "    width = size * resolution\n",
    "    mean_position = coords.mean(axis=0)\n",
    "    coords += width / 2 - mean_position \n",
    "    \n",
    "    # Get the pixel location for each atom\n",
    "    atom_pixel = np.round(coords / resolution).astype(int)\n",
    "    atom_pixel = np.clip(atom_pixel, 0, size-1)\n",
    "    \n",
    "    # Initialize the output image\n",
    "    output = np.zeros((size, size, 4), dtype=np.float32)\n",
    "    \n",
    "    # Add the atom information\n",
    "    mol.ComputeGasteigerCharges()\n",
    "    for atom, p in zip(mol.GetAtoms(), atom_pixel):\n",
    "        output[p[0], p[1], 0] = atom.GetAtomicNum()\n",
    "        output[p[0], p[1], 2] = atom.GetProp(\"_GasteigerCharge\")\n",
    "        output[p[0], p[1], 3] = atom.GetHybridization().real\n",
    "        \n",
    "    # Add in the bonds to channel 1\n",
    "    bond_channel = output[:, :, 1]\n",
    "    for bond in mol.GetBonds():\n",
    "        # Get the coordinates of atoms on either side of bonds\n",
    "        bidx = bond.GetBeginAtomIdx()\n",
    "        eidx = bond.GetEndAtomIdx()\n",
    "        b_pixel = atom_pixel[bidx]\n",
    "        e_pixel = atom_pixel[eidx]\n",
    "        \n",
    "        # Compute a path of at least the image size number of pixels in between\n",
    "        frac = np.linspace(0, 1, size)\n",
    "        bond_pixels = e_pixel + frac[:, None] * (b_pixel - e_pixel)\n",
    "        bond_pixels = np.round(bond_pixels).astype(int)\n",
    "        \n",
    "        # Set all of those values to the bond type value\n",
    "        btype = bond.GetBondTypeAsDouble()\n",
    "        for pix in bond_pixels:\n",
    "            bond_channel[pix[0], pix[1]] = btype\n",
    "    return output\n",
    "    \n",
    "output = generate_image('c1ccccc1C(O)ON', resolution=0.15)\n",
    "plt.imshow(output[:,:,:3])"
   ]
  },
  {
   "cell_type": "code",
   "execution_count": null,
   "id": "common-logan",
   "metadata": {},
   "outputs": [],
   "source": []
  }
 ],
 "metadata": {
  "kernelspec": {
   "display_name": "Python 3",
   "language": "python",
   "name": "python3"
  },
  "language_info": {
   "codemirror_mode": {
    "name": "ipython",
    "version": 3
   },
   "file_extension": ".py",
   "mimetype": "text/x-python",
   "name": "python",
   "nbconvert_exporter": "python",
   "pygments_lexer": "ipython3",
   "version": "3.7.10"
  }
 },
 "nbformat": 4,
 "nbformat_minor": 5
}
